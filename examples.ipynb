{
 "cells": [
  {
   "cell_type": "code",
   "execution_count": 1,
   "id": "5383bd79-2b5e-411f-9067-22af3f53cab2",
   "metadata": {},
   "outputs": [],
   "source": [
    "# Import client library.\n",
    "from igvf_client import IgvfApi"
   ]
  },
  {
   "cell_type": "code",
   "execution_count": 2,
   "id": "3f090ce3-9537-41a0-b201-f6d00c8fdf30",
   "metadata": {},
   "outputs": [],
   "source": [
    "# Instantiate new instance of IGVF API.\n",
    "api = IgvfApi()"
   ]
  },
  {
   "cell_type": "markdown",
   "id": "b0b1672f-57b7-4a57-8a76-e3602f349926",
   "metadata": {},
   "source": [
    "# Basic usage"
   ]
  },
  {
   "cell_type": "code",
   "execution_count": 3,
   "id": "e889a84e-bb15-4d96-a8df-08a5186e905d",
   "metadata": {},
   "outputs": [],
   "source": [
    "# Search for all types that match 'abc'.\n",
    "results = api.search(query='abc')"
   ]
  },
  {
   "cell_type": "code",
   "execution_count": 4,
   "id": "a04abecd-10c9-4f45-b5a6-999ca6c9cc48",
   "metadata": {},
   "outputs": [
    {
     "data": {
      "text/plain": [
       "20"
      ]
     },
     "execution_count": 4,
     "metadata": {},
     "output_type": "execute_result"
    }
   ],
   "source": [
    "# Print total number of results.\n",
    "results.total"
   ]
  },
  {
   "cell_type": "code",
   "execution_count": 5,
   "id": "5ba258b9-071d-477f-818e-eddc61bf96c0",
   "metadata": {},
   "outputs": [
    {
     "data": {
      "text/plain": [
       "[SearchFacet(var_field='type', title='Data Type', terms=[{'key': 'Gene', 'doc_count': 16}, {'key': 'Software', 'doc_count': 2}, {'key': 'Source', 'doc_count': 2}])]"
      ]
     },
     "execution_count": 5,
     "metadata": {},
     "output_type": "execute_result"
    }
   ],
   "source": [
    "# Print result count by type.\n",
    "results.facets"
   ]
  },
  {
   "cell_type": "code",
   "execution_count": 6,
   "id": "4c327065-03cc-4366-ab80-663e7c2f45f0",
   "metadata": {},
   "outputs": [],
   "source": [
    "# Limit results to Software.\n",
    "results = api.search(query='abc', type=['Software'])"
   ]
  },
  {
   "cell_type": "code",
   "execution_count": 7,
   "id": "2070e43d-0ec1-4601-9291-3d8c37ee0c4f",
   "metadata": {},
   "outputs": [
    {
     "data": {
      "text/plain": [
       "2"
      ]
     },
     "execution_count": 7,
     "metadata": {},
     "output_type": "execute_result"
    }
   ],
   "source": [
    "# Print total number of Software results.\n",
    "results.total"
   ]
  },
  {
   "cell_type": "code",
   "execution_count": 8,
   "id": "1a38a0ce-9ac6-40e9-a433-b9ef7cbfde0a",
   "metadata": {},
   "outputs": [
    {
     "data": {
      "text/plain": [
       "SearchResults(graph=[SearchResultItem(actual_instance=Software(release_timestamp='2023-03-14T00:12:36.014029+00:00', publications=None, lab='/labs/jesse-engreitz/', award='/awards/HG011972/', status='released', schema_version='6', uuid='f37503db-d59c-455d-99f0-7065c9afadfb', notes=None, aliases=None, creation_timestamp='2023-03-13T23:29:35.927480+00:00', submitted_by='/users/05f44ea6-5f00-440c-99e3-6b54f5792028/', submitter_comment=None, description='Target gene prediction (element)', name='abc', title='ABC', source_url='https://github.com/broadinstitute/ABC-Enhancer-Gene-Prediction', used_by=None, id='/software/abc/', type=['Software', 'Item'], summary='ABC', versions=[])), SearchResultItem(actual_instance=Software(release_timestamp='2023-03-14T00:14:14.620564+00:00', publications=None, lab='/labs/jesse-engreitz/', award='/awards/HG011972/', status='released', schema_version='6', uuid='48a9ccf4-9f3f-4c96-98c8-b390713163ae', notes=None, aliases=None, creation_timestamp='2023-03-13T23:29:36.381788+00:00', submitted_by='/users/05f44ea6-5f00-440c-99e3-6b54f5792028/', submitter_comment=None, description='Noncoding variant effects/prioritization', name='abc-max', title='ABC-Max', source_url='https://github.com/EngreitzLab/ABC-GWAS-Paper/tree/main/ABC-Max', used_by=None, id='/software/abc-max/', type=['Software', 'Item'], summary='ABC-Max', versions=[]))], id='/search?query=abc&type=Software&frame=object', type=['Search'], total=2, facets=[SearchFacet(var_field='type', title='Data Type', terms=[{'key': 'Software', 'doc_count': 2}]), SearchFacet(var_field='lab.title', title='Lab', terms=[{'key': 'Jesse Engreitz, Stanford', 'doc_count': 2}]), SearchFacet(var_field='award.component', title='Award', terms=[{'key': 'functional characterization', 'doc_count': 2}]), SearchFacet(var_field='status', title='Status', terms=[{'key': 'released', 'doc_count': 2}])])"
      ]
     },
     "execution_count": 8,
     "metadata": {},
     "output_type": "execute_result"
    }
   ],
   "source": [
    "# Print results.\n",
    "results"
   ]
  },
  {
   "cell_type": "code",
   "execution_count": 9,
   "id": "b3ca638d-d0aa-4043-b5e3-3a26d7c0b2d6",
   "metadata": {},
   "outputs": [
    {
     "data": {
      "text/plain": [
       "'/search?query=abc&type=Software&frame=object'"
      ]
     },
     "execution_count": 9,
     "metadata": {},
     "output_type": "execute_result"
    }
   ],
   "source": [
    "# Print query URL.\n",
    "results.id"
   ]
  },
  {
   "cell_type": "code",
   "execution_count": 10,
   "id": "39502269-a5d5-4819-a821-5be9b4bcdc54",
   "metadata": {},
   "outputs": [],
   "source": [
    "# Get first item in results list (@graph).\n",
    "item = results.graph[0]"
   ]
  },
  {
   "cell_type": "code",
   "execution_count": 11,
   "id": "92b6763d-5d5d-4113-97e6-0de5c1f60f72",
   "metadata": {},
   "outputs": [
    {
     "data": {
      "text/plain": [
       "SearchResultItem(actual_instance=Software(release_timestamp='2023-03-14T00:12:36.014029+00:00', publications=None, lab='/labs/jesse-engreitz/', award='/awards/HG011972/', status='released', schema_version='6', uuid='f37503db-d59c-455d-99f0-7065c9afadfb', notes=None, aliases=None, creation_timestamp='2023-03-13T23:29:35.927480+00:00', submitted_by='/users/05f44ea6-5f00-440c-99e3-6b54f5792028/', submitter_comment=None, description='Target gene prediction (element)', name='abc', title='ABC', source_url='https://github.com/broadinstitute/ABC-Enhancer-Gene-Prediction', used_by=None, id='/software/abc/', type=['Software', 'Item'], summary='ABC', versions=[]))"
      ]
     },
     "execution_count": 11,
     "metadata": {},
     "output_type": "execute_result"
    }
   ],
   "source": [
    "# Print SearchResultItem.\n",
    "item"
   ]
  },
  {
   "cell_type": "code",
   "execution_count": 12,
   "id": "7ab18fac-1c8a-45b4-afac-37c0d4704c0f",
   "metadata": {},
   "outputs": [],
   "source": [
    "# Unwrap Software item from SearchResultItem.\n",
    "software = item.actual_instance"
   ]
  },
  {
   "cell_type": "code",
   "execution_count": 13,
   "id": "ca79fd83-5085-4e25-a749-7d65e47a6835",
   "metadata": {},
   "outputs": [
    {
     "data": {
      "text/plain": [
       "Software(release_timestamp='2023-03-14T00:12:36.014029+00:00', publications=None, lab='/labs/jesse-engreitz/', award='/awards/HG011972/', status='released', schema_version='6', uuid='f37503db-d59c-455d-99f0-7065c9afadfb', notes=None, aliases=None, creation_timestamp='2023-03-13T23:29:35.927480+00:00', submitted_by='/users/05f44ea6-5f00-440c-99e3-6b54f5792028/', submitter_comment=None, description='Target gene prediction (element)', name='abc', title='ABC', source_url='https://github.com/broadinstitute/ABC-Enhancer-Gene-Prediction', used_by=None, id='/software/abc/', type=['Software', 'Item'], summary='ABC', versions=[])"
      ]
     },
     "execution_count": 13,
     "metadata": {},
     "output_type": "execute_result"
    }
   ],
   "source": [
    "# Print Software item.\n",
    "software"
   ]
  },
  {
   "cell_type": "code",
   "execution_count": 14,
   "id": "72932c65-2ade-41fb-8856-b613ff7811c5",
   "metadata": {},
   "outputs": [
    {
     "data": {
      "text/plain": [
       "'/software/abc/'"
      ]
     },
     "execution_count": 14,
     "metadata": {},
     "output_type": "execute_result"
    }
   ],
   "source": [
    "# Print @id field. \n",
    "software.id"
   ]
  },
  {
   "cell_type": "code",
   "execution_count": 15,
   "id": "1fc54b9f-1b95-43db-bd0d-96e9a35ca696",
   "metadata": {},
   "outputs": [
    {
     "data": {
      "text/plain": [
       "'released'"
      ]
     },
     "execution_count": 15,
     "metadata": {},
     "output_type": "execute_result"
    }
   ],
   "source": [
    "# Print status field.\n",
    "software.status"
   ]
  },
  {
   "cell_type": "code",
   "execution_count": 16,
   "id": "8826faa3-bff4-4b0b-915c-3919ff00e8d0",
   "metadata": {},
   "outputs": [
    {
     "data": {
      "text/plain": [
       "'/labs/jesse-engreitz/'"
      ]
     },
     "execution_count": 16,
     "metadata": {},
     "output_type": "execute_result"
    }
   ],
   "source": [
    "# Print lab @id associated with the software.\n",
    "software.lab"
   ]
  },
  {
   "cell_type": "code",
   "execution_count": 17,
   "id": "5243f295-ebcd-44df-b70e-a10a65d756eb",
   "metadata": {},
   "outputs": [],
   "source": [
    "# Get Lab item with @id. \n",
    "item = api.get_by_id(software.lab)"
   ]
  },
  {
   "cell_type": "code",
   "execution_count": 18,
   "id": "3aec76d3-1320-4ca3-8dd7-57094ac3ea91",
   "metadata": {},
   "outputs": [
    {
     "data": {
      "text/plain": [
       "Item(actual_instance=Lab(status='current', url='https://www.engreitzlab.org/', schema_version='3', uuid='083882e6-c0fb-4cee-ae94-c1138a2195e7', notes=None, aliases=None, creation_timestamp='2023-01-27T01:25:29.847716+00:00', submitted_by='/users/1e75d989-a438-4d77-a451-8a297fd3636e/', submitter_comment=None, description=None, name='jesse-engreitz', pi='/users/6c75dbfa-635e-4a7a-8ec8-9e51e9c380a4/', awards=['/awards/HG011972/'], institute_label='Stanford', id='/labs/jesse-engreitz/', type=['Lab', 'Item'], summary='Jesse Engreitz, Stanford', title='Jesse Engreitz, Stanford'))"
      ]
     },
     "execution_count": 18,
     "metadata": {},
     "output_type": "execute_result"
    }
   ],
   "source": [
    "# Print Item.\n",
    "item"
   ]
  },
  {
   "cell_type": "code",
   "execution_count": 19,
   "id": "70ac8625-a21d-4ca0-84db-5552aeb7f4a4",
   "metadata": {},
   "outputs": [],
   "source": [
    "# Unwrap underlying Lab item from Item.\n",
    "lab = item.actual_instance"
   ]
  },
  {
   "cell_type": "code",
   "execution_count": 20,
   "id": "92d6fd5e-6ac7-44ab-9e39-a9586f528367",
   "metadata": {},
   "outputs": [
    {
     "data": {
      "text/plain": [
       "Lab(status='current', url='https://www.engreitzlab.org/', schema_version='3', uuid='083882e6-c0fb-4cee-ae94-c1138a2195e7', notes=None, aliases=None, creation_timestamp='2023-01-27T01:25:29.847716+00:00', submitted_by='/users/1e75d989-a438-4d77-a451-8a297fd3636e/', submitter_comment=None, description=None, name='jesse-engreitz', pi='/users/6c75dbfa-635e-4a7a-8ec8-9e51e9c380a4/', awards=['/awards/HG011972/'], institute_label='Stanford', id='/labs/jesse-engreitz/', type=['Lab', 'Item'], summary='Jesse Engreitz, Stanford', title='Jesse Engreitz, Stanford')"
      ]
     },
     "execution_count": 20,
     "metadata": {},
     "output_type": "execute_result"
    }
   ],
   "source": [
    "# Print Lab item.\n",
    "lab"
   ]
  },
  {
   "cell_type": "code",
   "execution_count": 21,
   "id": "fd1a12fd-cc5f-4d64-a37c-983bbab897da",
   "metadata": {},
   "outputs": [
    {
     "data": {
      "text/plain": [
       "'/labs/jesse-engreitz/'"
      ]
     },
     "execution_count": 21,
     "metadata": {},
     "output_type": "execute_result"
    }
   ],
   "source": [
    "# Print fields.\n",
    "lab.id"
   ]
  },
  {
   "cell_type": "code",
   "execution_count": 22,
   "id": "0cc32d43-b1cf-4643-a2ac-458f45210101",
   "metadata": {},
   "outputs": [
    {
     "data": {
      "text/plain": [
       "'/users/6c75dbfa-635e-4a7a-8ec8-9e51e9c380a4/'"
      ]
     },
     "execution_count": 22,
     "metadata": {},
     "output_type": "execute_result"
    }
   ],
   "source": [
    "lab.pi"
   ]
  },
  {
   "cell_type": "code",
   "execution_count": 23,
   "id": "9a178b02-2d3d-4918-b648-6bad74bc9ba9",
   "metadata": {},
   "outputs": [
    {
     "data": {
      "text/plain": [
       "'Jesse Engreitz, Stanford'"
      ]
     },
     "execution_count": 23,
     "metadata": {},
     "output_type": "execute_result"
    }
   ],
   "source": [
    "lab.title"
   ]
  },
  {
   "cell_type": "code",
   "execution_count": 24,
   "id": "5f0f22b5-81dd-462d-a434-1cd2f6ee5126",
   "metadata": {},
   "outputs": [
    {
     "data": {
      "text/plain": [
       "['/awards/HG011972/']"
      ]
     },
     "execution_count": 24,
     "metadata": {},
     "output_type": "execute_result"
    }
   ],
   "source": [
    "lab.awards"
   ]
  },
  {
   "cell_type": "code",
   "execution_count": 25,
   "id": "2f8f158d-0cde-4e1a-a877-a82486377af1",
   "metadata": {},
   "outputs": [
    {
     "data": {
      "text/plain": [
       "'Stanford Center for Connecting DNA Variants to Function and Phenotype'"
      ]
     },
     "execution_count": 25,
     "metadata": {},
     "output_type": "execute_result"
    }
   ],
   "source": [
    "# Get title of Award.\n",
    "api.awards(id=lab.awards).graph[0].title"
   ]
  },
  {
   "cell_type": "code",
   "execution_count": 26,
   "id": "558c175d-41a8-489d-b37b-2b2bce8009cb",
   "metadata": {},
   "outputs": [],
   "source": [
    "# Find all the Labs that share Award.\n",
    "labs_that_share_award = api.search(field_filters={'awards.@id': lab.awards}, type=['Lab'])"
   ]
  },
  {
   "cell_type": "code",
   "execution_count": 27,
   "id": "5a6e089b-aac4-44c3-8850-6d8414b8aff8",
   "metadata": {},
   "outputs": [
    {
     "data": {
      "text/plain": [
       "7"
      ]
     },
     "execution_count": 27,
     "metadata": {},
     "output_type": "execute_result"
    }
   ],
   "source": [
    "labs_that_share_award.total"
   ]
  },
  {
   "cell_type": "code",
   "execution_count": 28,
   "id": "75ffde27-92d2-4664-aab8-a7b96213b742",
   "metadata": {},
   "outputs": [
    {
     "data": {
      "text/plain": [
       "['Anshul Kundaje, Stanford',\n",
       " 'Michael Bassik, Stanford',\n",
       " 'Lars Steinmetz, Stanford',\n",
       " 'Thomas Quertermous, Stanford',\n",
       " 'Marlene Rabinovitch, Stanford',\n",
       " 'Will Greenleaf, Stanford',\n",
       " 'Jesse Engreitz, Stanford']"
      ]
     },
     "execution_count": 28,
     "metadata": {},
     "output_type": "execute_result"
    }
   ],
   "source": [
    "# Iterate through Lab titles in results.\n",
    "lab_titles = [lab.title for lab in labs_that_share_award.graph]\n",
    "lab_titles"
   ]
  },
  {
   "cell_type": "code",
   "execution_count": 29,
   "id": "751009d4-1788-4356-99a2-0414677dbad3",
   "metadata": {},
   "outputs": [
    {
     "data": {
      "text/plain": [
       "['/labs/anshul-kundaje/',\n",
       " '/labs/michael-bassik/',\n",
       " '/labs/lars-steinmetz/',\n",
       " '/labs/thomas-quertermous/',\n",
       " '/labs/marlene-rabinovitch/',\n",
       " '/labs/will-greenleaf/',\n",
       " '/labs/jesse-engreitz/']"
      ]
     },
     "execution_count": 29,
     "metadata": {},
     "output_type": "execute_result"
    }
   ],
   "source": [
    "# Iterate through Lab @ids in results.\n",
    "lab_ids = [lab.id for lab in labs_that_share_award.graph]\n",
    "lab_ids"
   ]
  },
  {
   "cell_type": "code",
   "execution_count": 30,
   "id": "95a9253c-e623-4127-8cc5-6fc00b4c41b9",
   "metadata": {},
   "outputs": [],
   "source": [
    "# Search User collection for all Users that belong to Labs.\n",
    "users_in_labs = api.users(lab=lab_ids)"
   ]
  },
  {
   "cell_type": "code",
   "execution_count": 31,
   "id": "e4ca999d-55e9-4913-863f-9881c3239d28",
   "metadata": {},
   "outputs": [
    {
     "data": {
      "text/plain": [
       "23"
      ]
     },
     "execution_count": 31,
     "metadata": {},
     "output_type": "execute_result"
    }
   ],
   "source": [
    "users_in_labs.total"
   ]
  },
  {
   "cell_type": "code",
   "execution_count": 32,
   "id": "b925e463-a322-4a32-9082-f006cbd10824",
   "metadata": {},
   "outputs": [
    {
     "data": {
      "text/plain": [
       "User(status='current', schema_version=None, uuid='f9e7cd82-a407-4a20-89ee-f4dc668b0cbe', notes=None, aliases=None, creation_timestamp=None, submitted_by=None, submitter_comment=None, description=None, email=None, first_name=None, last_name=None, lab='/labs/jesse-engreitz/', submits_for=['/labs/jesse-engreitz/', '/labs/thomas-quertermous/', '/labs/anshul-kundaje/', '/labs/michael-bassik/', '/labs/will-greenleaf/', '/labs/marlene-rabinovitch/', '/labs/lars-steinmetz/'], groups=None, viewing_groups=['IGVF'], job_title=None, id='/users/f9e7cd82-a407-4a20-89ee-f4dc668b0cbe/', type=['User', 'Item'], summary=None, title='Michael Montgomery')"
      ]
     },
     "execution_count": 32,
     "metadata": {},
     "output_type": "execute_result"
    }
   ],
   "source": [
    "# Collection endpoints return the collection item directly (i.e. User). Results are not wrapped in SearchResultItem or Item.\n",
    "users_in_labs.graph[0]"
   ]
  },
  {
   "cell_type": "code",
   "execution_count": 33,
   "id": "0b70ff2c-7afd-4552-a7d6-5435be55e365",
   "metadata": {},
   "outputs": [
    {
     "data": {
      "text/plain": [
       "['/users/f9e7cd82-a407-4a20-89ee-f4dc668b0cbe/',\n",
       " '/users/e5d430d2-0b7c-41cb-91be-ce0ddd787af9/',\n",
       " '/users/ddb425b6-3b56-4b7b-9887-15aadd20ed99/',\n",
       " '/users/c7d0d753-635a-4bd1-a8b3-06f6fdcf826e/',\n",
       " '/users/b266291e-129f-4e0e-ba75-fe0dfe6eec4e/',\n",
       " '/users/a138ff68-2623-439d-ada7-94f409cd1469/',\n",
       " '/users/7c7ca375-a30f-4237-a212-100be64fbaed/',\n",
       " '/users/7c48e124-578f-4cb9-97b6-eb80fb1588c3/',\n",
       " '/users/6c75dbfa-635e-4a7a-8ec8-9e51e9c380a4/',\n",
       " '/users/68b90f31-de28-41ed-acd6-0e72fae2073c/',\n",
       " '/users/61a18fdf-6b2a-4353-96dd-d83d1b28e4b2/',\n",
       " '/users/5e5d0a09-9206-4e07-abcb-a5079e84cf6e/',\n",
       " '/users/4bf06b84-583d-47ff-a1c2-c0b99ced51c9/',\n",
       " '/users/4b2083b4-24c1-41d8-9daa-e79299f00d6e/',\n",
       " '/users/3e25d6c1-85e5-4871-8242-4997a3da72bb/',\n",
       " '/users/3bd6f74c-8cf3-4c35-a94d-0c7c11654815/',\n",
       " '/users/35da1760-050c-433c-93ba-97082a53cd72/',\n",
       " '/users/3506e8e6-b017-4724-99bd-e89d47e6f355/',\n",
       " '/users/2fcea56e-9fd5-4dde-8e46-21996bf82f70/',\n",
       " '/users/12693ee2-fa46-421f-8c44-831d9e13ec10/',\n",
       " '/users/100f06c6-83a7-4b4d-9dfd-053a1829773b/',\n",
       " '/users/0dc710a2-3f93-42a3-9e8b-5268e9c02dff/',\n",
       " '/users/05fa0dc9-0e33-427c-9d1f-82393edc4a03/']"
      ]
     },
     "execution_count": 33,
     "metadata": {},
     "output_type": "execute_result"
    }
   ],
   "source": [
    "user_ids = [user.id for user in users_in_labs.graph]\n",
    "user_ids"
   ]
  },
  {
   "cell_type": "code",
   "execution_count": 34,
   "id": "9e8732d5-73b7-4cc1-89b0-fe57e76c5fac",
   "metadata": {},
   "outputs": [],
   "source": [
    "# This is equivalent to searching for User items with lab field.\n",
    "users_in_lab = api.search(type=['User'], field_filters={'lab': lab_ids})"
   ]
  },
  {
   "cell_type": "code",
   "execution_count": 35,
   "id": "4ec409c2-1c97-462b-bc56-3090d6d3b78a",
   "metadata": {},
   "outputs": [
    {
     "data": {
      "text/plain": [
       "23"
      ]
     },
     "execution_count": 35,
     "metadata": {},
     "output_type": "execute_result"
    }
   ],
   "source": [
    "users_in_lab.total"
   ]
  },
  {
   "cell_type": "code",
   "execution_count": 36,
   "id": "41390985-c091-4215-89da-89e0f3b3bcee",
   "metadata": {},
   "outputs": [
    {
     "data": {
      "text/plain": [
       "SearchResultItem(actual_instance=User(status='current', schema_version=None, uuid='f9e7cd82-a407-4a20-89ee-f4dc668b0cbe', notes=None, aliases=None, creation_timestamp=None, submitted_by=None, submitter_comment=None, description=None, email=None, first_name=None, last_name=None, lab='/labs/jesse-engreitz/', submits_for=['/labs/jesse-engreitz/', '/labs/thomas-quertermous/', '/labs/anshul-kundaje/', '/labs/michael-bassik/', '/labs/will-greenleaf/', '/labs/marlene-rabinovitch/', '/labs/lars-steinmetz/'], groups=None, viewing_groups=['IGVF'], job_title=None, id='/users/f9e7cd82-a407-4a20-89ee-f4dc668b0cbe/', type=['User', 'Item'], summary=None, title='Michael Montgomery'))"
      ]
     },
     "execution_count": 36,
     "metadata": {},
     "output_type": "execute_result"
    }
   ],
   "source": [
    "# But results from search endpoint is wrapped in SearchResultItem since results could be any item type.\n",
    "users_in_lab.graph[0]"
   ]
  },
  {
   "cell_type": "code",
   "execution_count": 37,
   "id": "d202d664-eac9-456f-b489-e183a143ef21",
   "metadata": {},
   "outputs": [
    {
     "data": {
      "text/plain": [
       "['/labs/jesse-engreitz/',\n",
       " '/labs/thomas-quertermous/',\n",
       " '/labs/anshul-kundaje/',\n",
       " '/labs/michael-bassik/',\n",
       " '/labs/will-greenleaf/',\n",
       " '/labs/marlene-rabinovitch/',\n",
       " '/labs/lars-steinmetz/']"
      ]
     },
     "execution_count": 37,
     "metadata": {},
     "output_type": "execute_result"
    }
   ],
   "source": [
    "# Note fields are accessible without unwrapping the underlying instance first first.\n",
    "users_in_lab.graph[0].submits_for"
   ]
  },
  {
   "cell_type": "code",
   "execution_count": 38,
   "id": "56e823e8-0935-44e8-887b-0ba56f11d7ff",
   "metadata": {},
   "outputs": [
    {
     "data": {
      "text/plain": [
       "['/labs/jesse-engreitz/',\n",
       " '/labs/thomas-quertermous/',\n",
       " '/labs/anshul-kundaje/',\n",
       " '/labs/michael-bassik/',\n",
       " '/labs/will-greenleaf/',\n",
       " '/labs/marlene-rabinovitch/',\n",
       " '/labs/lars-steinmetz/']"
      ]
     },
     "execution_count": 38,
     "metadata": {},
     "output_type": "execute_result"
    }
   ],
   "source": [
    "# But unwrapping with actual_instance allows for tab completion of fields.\n",
    "users_in_lab.graph[0].actual_instance.submits_for"
   ]
  },
  {
   "cell_type": "code",
   "execution_count": 39,
   "id": "7304ad72-1376-48b8-99bd-12c1ace76acb",
   "metadata": {},
   "outputs": [],
   "source": [
    "# Search for all SequenceFiles that were submitted by one of the users.\n",
    "sequence_files = api.search(type=['SequenceFile'], field_filters={'submitted_by.@id': user_ids})"
   ]
  },
  {
   "cell_type": "code",
   "execution_count": 40,
   "id": "89a8070b-9f5e-44ac-9f0c-f27b7e67576c",
   "metadata": {},
   "outputs": [
    {
     "data": {
      "text/plain": [
       "8865"
      ]
     },
     "execution_count": 40,
     "metadata": {},
     "output_type": "execute_result"
    }
   ],
   "source": [
    "sequence_files.total"
   ]
  },
  {
   "cell_type": "code",
   "execution_count": 41,
   "id": "332769da-ea88-4b57-965a-3ac94df247be",
   "metadata": {},
   "outputs": [],
   "source": [
    "# Could also search for SequenceFiles that were submitted as part of the Award.\n",
    "sequence_files = api.search(type=['SequenceFile'], field_filters={'award.@id': lab.awards})"
   ]
  },
  {
   "cell_type": "code",
   "execution_count": 42,
   "id": "aab82bd3-354e-4fca-8745-bfea8e101ffa",
   "metadata": {},
   "outputs": [
    {
     "data": {
      "text/plain": [
       "8865"
      ]
     },
     "execution_count": 42,
     "metadata": {},
     "output_type": "execute_result"
    }
   ],
   "source": [
    "sequence_files.total"
   ]
  },
  {
   "cell_type": "code",
   "execution_count": 43,
   "id": "8fcf6da6-4060-4be7-a0e6-d50604f43f63",
   "metadata": {},
   "outputs": [
    {
     "data": {
      "text/plain": [
       "SequenceFile(controlled_access=False, anvil_url=None, release_timestamp='2023-12-21T00:06:35.899510+00:00', documents=None, lab='/labs/jesse-engreitz/', award='/awards/HG011972/', accession='IGVFFI1165AJSO', alternate_accessions=None, collections=None, status='released', revoke_detail=None, schema_version='14', uuid='fffcd64e-af02-4675-8953-7352459ee06a', notes=None, aliases=['jesse-engreitz:220829_8merInsertion-Jurkat_Stimulation-Amp_PPIF_promoter-BioRep2-FFrep1-BinD-PCRrep1_I2'], creation_timestamp='2023-12-05T19:58:18.462157+00:00', submitted_by='/users/f9e7cd82-a407-4a20-89ee-f4dc668b0cbe/', submitter_comment=None, description=None, analysis_step_version=None, content_md5sum='fce2b00b7c260827c76467aada46e759', content_type='reads', dbxrefs=None, derived_from=None, file_format='fastq', file_format_specifications=None, file_set='/measurement-sets/IGVFDS2192NCTH/', file_size=3060311, md5sum='d8c1e1b377534e0338d15286e3d22eea', submitted_file_name='220829_pPPIF_JurkatVFF-Jurkat-PE2A-BFP-pPPIF-Amp_pPPIF2_S15-BioRep2-FFRep1-BinD-PCRrep1_S130_I2_001.fastq.gz', upload_status='validated', validation_error_detail=None, flowcell_id=None, lane=None, read_count=391884, minimum_read_length=4, maximum_read_length=4, mean_read_length=4, sequencing_platform='/platform-terms/EFO_0008566/', sequencing_kit=None, sequencing_run=1, illumina_read_type='I2', index='CCTTCGCA:GTCA', base_modifications=None, id='/sequence-files/IGVFFI1165AJSO/', type=['SequenceFile', 'File', 'Item'], summary='I2 reads from sequencing run 1', integrated_in=[], input_file_for=[], gene_list_for=[], loci_list_for=[], href='/sequence-files/IGVFFI1165AJSO/@@download/IGVFFI1165AJSO.fastq.gz', s3_uri='s3://igvf-files/2023/12/05/fffcd64e-af02-4675-8953-7352459ee06a/IGVFFI1165AJSO.fastq.gz', upload_credentials=None, seqspecs=[])"
      ]
     },
     "execution_count": 43,
     "metadata": {},
     "output_type": "execute_result"
    }
   ],
   "source": [
    "sequence_files.graph[0].actual_instance"
   ]
  },
  {
   "cell_type": "code",
   "execution_count": 44,
   "id": "1fd98529-70e0-4a5f-86b8-9985be1f19ed",
   "metadata": {},
   "outputs": [
    {
     "data": {
      "text/plain": [
       "'fastq'"
      ]
     },
     "execution_count": 44,
     "metadata": {},
     "output_type": "execute_result"
    }
   ],
   "source": [
    "sequence_files.graph[0].actual_instance.file_format"
   ]
  },
  {
   "cell_type": "markdown",
   "id": "0502e353-d3ab-4d99-979f-74ecd75b04a0",
   "metadata": {},
   "source": [
    "# Schema endpoints"
   ]
  },
  {
   "cell_type": "code",
   "execution_count": 45,
   "id": "5980b93f-68cf-4ade-89bd-ae8a0fb3a21a",
   "metadata": {},
   "outputs": [],
   "source": [
    "# Get JSONSchema definition for SequenceFile.\n",
    "schema = api.schema_for_item_type('SequenceFile')"
   ]
  },
  {
   "cell_type": "code",
   "execution_count": 46,
   "id": "e53c44a7-9b44-49ab-95ba-811e19eb7ac7",
   "metadata": {},
   "outputs": [
    {
     "data": {
      "text/plain": [
       "dict_keys(['title', '$id', '$schema', 'description', 'required', 'identifyingProperties', 'additionalProperties', 'mixinProperties', 'dependentSchemas', 'type', 'properties', 'fuzzy_searchable_fields', 'exact_searchable_fields', 'changelog', '@type'])"
      ]
     },
     "execution_count": 46,
     "metadata": {},
     "output_type": "execute_result"
    }
   ],
   "source": [
    "schema.keys()"
   ]
  },
  {
   "cell_type": "code",
   "execution_count": 47,
   "id": "92a1c6f9-32c6-47b1-a366-390836b2e8c5",
   "metadata": {},
   "outputs": [
    {
     "data": {
      "text/plain": [
       "dict_keys(['controlled_access', 'anvil_url', 'release_timestamp', 'documents', 'lab', 'award', 'accession', 'alternate_accessions', 'collections', 'status', 'revoke_detail', 'schema_version', 'uuid', 'notes', 'aliases', 'creation_timestamp', 'submitted_by', 'submitter_comment', 'description', 'analysis_step_version', 'content_md5sum', 'content_type', 'dbxrefs', 'derived_from', 'file_format', 'file_format_specifications', 'file_set', 'file_size', 'md5sum', 'submitted_file_name', 'upload_status', 'validation_error_detail', 'flowcell_id', 'lane', 'read_count', 'minimum_read_length', 'maximum_read_length', 'mean_read_length', 'sequencing_platform', 'sequencing_kit', 'sequencing_run', 'illumina_read_type', 'index', 'base_modifications', '@id', '@type', 'summary', 'integrated_in', 'input_file_for', 'gene_list_for', 'loci_list_for', 'href', 's3_uri', 'upload_credentials', 'seqspecs'])"
      ]
     },
     "execution_count": 47,
     "metadata": {},
     "output_type": "execute_result"
    }
   ],
   "source": [
    "# Print fields.\n",
    "schema['properties'].keys()"
   ]
  },
  {
   "cell_type": "code",
   "execution_count": 48,
   "id": "5ca5ff81-6472-4927-8341-1cf10090bfe4",
   "metadata": {},
   "outputs": [
    {
     "data": {
      "text/plain": [
       "{'title': 'Content MD5sum',\n",
       " 'description': 'The MD5sum of the uncompressed file.',\n",
       " 'type': 'string',\n",
       " 'permission': 'admin_only',\n",
       " 'format': 'hex',\n",
       " 'maxLength': 32,\n",
       " 'pattern': '[a-f\\\\d]{32}|[A-F\\\\d]{32}',\n",
       " 'readonly': True}"
      ]
     },
     "execution_count": 48,
     "metadata": {},
     "output_type": "execute_result"
    }
   ],
   "source": [
    "# Print schema definition for content_md5sum.\n",
    "schema['properties']['content_md5sum']"
   ]
  },
  {
   "cell_type": "code",
   "execution_count": 49,
   "id": "729aefc1-e9f7-4472-acfe-d6ac80e54a9d",
   "metadata": {},
   "outputs": [],
   "source": [
    "# Get JSONSchema for all item types.\n",
    "schemas = api.schemas()"
   ]
  },
  {
   "cell_type": "code",
   "execution_count": 50,
   "id": "289a6243-ad94-49bb-b4ef-eaf88e11d132",
   "metadata": {},
   "outputs": [
    {
     "data": {
      "text/plain": [
       "dict_keys(['AccessKey', 'AnalysisStep', 'AnalysisStepVersion', 'Award', 'Biomarker', 'Document', 'HumanDonor', 'RodentDonor', 'AlignmentFile', 'ConfigurationFile', 'GenomeBrowserAnnotationFile', 'ImageFile', 'MatrixFile', 'ModelFile', 'ReferenceFile', 'SequenceFile', 'SignalFile', 'TabularFile', 'AnalysisSet', 'AuxiliarySet', 'ConstructLibrarySet', 'CuratedSet', 'MeasurementSet', 'ModelSet', 'PredictionSet', 'Gene', 'Image', 'InstitutionalCertificate', 'Lab', 'CrisprModification', 'DegronModification', 'AssayTerm', 'PhenotypeTerm', 'PlatformTerm', 'SampleTerm', 'OpenReadingFrame', 'Page', 'PhenotypicFeature', 'Publication', 'InVitroSystem', 'MultiplexedSample', 'PrimaryCell', 'TechnicalSample', 'Tissue', 'WholeOrganism', 'Software', 'SoftwareVersion', 'Source', 'Treatment', 'User', 'Workflow', '_subtypes', '@type', '_hierarchy'])"
      ]
     },
     "execution_count": 50,
     "metadata": {},
     "output_type": "execute_result"
    }
   ],
   "source": [
    "schemas.keys()"
   ]
  },
  {
   "cell_type": "code",
   "execution_count": 51,
   "id": "669d472a-8f85-44a2-98c3-bd4eab0431f9",
   "metadata": {},
   "outputs": [
    {
     "data": {
      "text/plain": [
       "['AccessKey',\n",
       " 'AnalysisStep',\n",
       " 'AnalysisStepVersion',\n",
       " 'Award',\n",
       " 'Biomarker',\n",
       " 'Document',\n",
       " 'HumanDonor',\n",
       " 'RodentDonor',\n",
       " 'AlignmentFile',\n",
       " 'ConfigurationFile',\n",
       " 'GenomeBrowserAnnotationFile',\n",
       " 'ImageFile',\n",
       " 'MatrixFile',\n",
       " 'ModelFile',\n",
       " 'ReferenceFile',\n",
       " 'SequenceFile',\n",
       " 'SignalFile',\n",
       " 'TabularFile',\n",
       " 'AnalysisSet',\n",
       " 'AuxiliarySet',\n",
       " 'ConstructLibrarySet',\n",
       " 'CuratedSet',\n",
       " 'MeasurementSet',\n",
       " 'ModelSet',\n",
       " 'PredictionSet',\n",
       " 'Gene',\n",
       " 'Image',\n",
       " 'InstitutionalCertificate',\n",
       " 'Lab',\n",
       " 'CrisprModification',\n",
       " 'DegronModification',\n",
       " 'AssayTerm',\n",
       " 'PhenotypeTerm',\n",
       " 'PlatformTerm',\n",
       " 'SampleTerm',\n",
       " 'OpenReadingFrame',\n",
       " 'Page',\n",
       " 'PhenotypicFeature',\n",
       " 'Publication',\n",
       " 'InVitroSystem',\n",
       " 'MultiplexedSample',\n",
       " 'PrimaryCell',\n",
       " 'TechnicalSample',\n",
       " 'Tissue',\n",
       " 'WholeOrganism',\n",
       " 'Software',\n",
       " 'SoftwareVersion',\n",
       " 'Source',\n",
       " 'Treatment',\n",
       " 'User',\n",
       " 'Workflow']"
      ]
     },
     "execution_count": 51,
     "metadata": {},
     "output_type": "execute_result"
    }
   ],
   "source": [
    "# Filter out some metadata fields.\n",
    "item_types = [x for x in api.schemas().keys() if '_' not in x and '@' not in x]\n",
    "item_types"
   ]
  },
  {
   "cell_type": "code",
   "execution_count": 52,
   "id": "3218d45e-95f5-40d7-916c-cef6c9a988b0",
   "metadata": {},
   "outputs": [
    {
     "data": {
      "text/plain": [
       "51"
      ]
     },
     "execution_count": 52,
     "metadata": {},
     "output_type": "execute_result"
    }
   ],
   "source": [
    "# Print total number of types.\n",
    "len(item_types)"
   ]
  },
  {
   "cell_type": "code",
   "execution_count": 53,
   "id": "154853f8-5929-4494-b38c-1a559dd1b149",
   "metadata": {},
   "outputs": [
    {
     "name": "stdout",
     "output_type": "stream",
     "text": [
      "AccessKey 0\n",
      "AnalysisStep 0\n",
      "AnalysisStepVersion 0\n",
      "Award 27\n",
      "Biomarker 0\n",
      "Document 12\n",
      "HumanDonor 16\n",
      "RodentDonor 11\n",
      "AlignmentFile 0\n",
      "ConfigurationFile 767\n",
      "GenomeBrowserAnnotationFile 0\n",
      "ImageFile 0\n",
      "MatrixFile 2\n",
      "ModelFile 0\n",
      "ReferenceFile 709\n",
      "SequenceFile 9369\n",
      "SignalFile 7\n",
      "TabularFile 45\n",
      "AnalysisSet 13\n",
      "AuxiliarySet 292\n",
      "ConstructLibrarySet 10\n",
      "CuratedSet 60\n",
      "MeasurementSet 615\n",
      "ModelSet 0\n",
      "PredictionSet 0\n",
      "Gene 10272\n",
      "Image 44\n",
      "InstitutionalCertificate 0\n",
      "Lab 102\n",
      "CrisprModification 6\n",
      "DegronModification 0\n",
      "AssayTerm 22\n",
      "PhenotypeTerm 275\n",
      "PlatformTerm 24\n",
      "SampleTerm 81\n",
      "OpenReadingFrame 0\n",
      "Page 15\n",
      "PhenotypicFeature 1\n",
      "Publication 73\n",
      "InVitroSystem 753\n",
      "MultiplexedSample 8\n",
      "PrimaryCell 0\n",
      "TechnicalSample 0\n",
      "Tissue 8\n",
      "WholeOrganism 0\n",
      "Software 49\n",
      "SoftwareVersion 1\n",
      "Source 109\n",
      "Treatment 4\n",
      "User 228\n",
      "Workflow 0\n"
     ]
    }
   ],
   "source": [
    "# Find total number of items for each item type using search endpoint. Use limit=0 to prevent returning any actual results.\n",
    "for item_type in item_types:\n",
    "    print(item_type, api.search(type=[item_type], limit=0).total)"
   ]
  },
  {
   "cell_type": "markdown",
   "id": "e57bc409-4ce0-4ee7-8291-0e162f96e822",
   "metadata": {},
   "source": [
    "## Report endpoint"
   ]
  },
  {
   "cell_type": "code",
   "execution_count": 54,
   "id": "3c3dc3a9-4dda-45c6-af9a-a0070d74e0ca",
   "metadata": {},
   "outputs": [
    {
     "data": {
      "text/plain": [
       "16"
      ]
     },
     "execution_count": 54,
     "metadata": {},
     "output_type": "execute_result"
    }
   ],
   "source": [
    "# Report endpoint is equivalent to search endpoint, but returns full list of results formatted as TSV with default fields as columns.\n",
    "api.search(type=['HumanDonor']).total"
   ]
  },
  {
   "cell_type": "code",
   "execution_count": 55,
   "id": "5b2ee80d-f3a2-456e-b9a4-eb48eddfc45f",
   "metadata": {},
   "outputs": [
    {
     "data": {
      "text/plain": [
       "'2024-08-29 00:28:05.631971\\thttps://api.data.igvf.org/multireport/?type=HumanDonor&limit=all\\r\\nID\\tUUID\\tAccession\\tAlternate Accessions\\tAliases\\tTaxa\\tSex\\tAward\\tEthnicities\\tHuman Donor Identifiers\\tLab\\tStatus\\tSubmitted By\\tCollections\\tPhenotypic Features\\tVirtual\\r\\n/human-donors/IGVFDO1756PPKO/\\t7cccb0b9-99e6-425d-b684-152adc4b95e5\\tIGVFDO1756PPKO\\t\\tigvf:donor_of_WTC11\\tHomo sapiens\\tmale\\t/awards/HG012012/\\tJapanese\\tGM25256 cell line donor,WTC11 cell line donor\\t/labs/j-michael-cherry/\\treleased\\t/users/43f2f757-5cbf-490a-9787-a1ee85a4cdcd/\\t\\t\\tFalse\\r\\n/human-donors/IGVFDO3459DFTW/\\tc364e744-7b69-45e3-a6f1-55f423548632\\tIGVFDO3459DFTW\\t\\tigvf:donor_of_teloHAEC\\tHomo sapiens\\tfemale\\t/awards/HG012012/\\t\\tTeloHAEC cell line donor\\t/labs/j-michael-cherry/\\treleased\\t/users/43f2f757-5cbf-490a-9787-a1ee85a4cdcd/\\t\\t\\tFalse\\r\\n/human-donors/IGVFDO0965QSBA/\\tde29ea95-6778-46c4-92ce-15537a94896a\\tIGVFDO0965QSBA\\t\\tigvf:donor_of_HUDEP-2\\tHomo sapiens\\tunspecified\\t/awards/HG012012/\\tJapanese\\tHUDEP-2 cell line donor\\t/labs/j-michael-cherry/\\treleased\\t/users/43f2f757-5cbf-490a-9787-a1ee85a4cdcd/\\t\\t\\tFalse\\r\\n/human-donors/IGVFDO6638HIAD/\\t1a69b34d-f8f8-4364-9676-aeb935461d5d\\tIGVFDO6638HIAD\\t\\tigvf:donor_of_H1\\tHomo sapiens\\tmale\\t/awards/HG012012/\\t\\tH1 cell line donor\\t/labs/j-michael-cherry/\\treleased\\t/users/43f2f757-5cbf-490a-9787-a1ee85a4cdcd/\\t\\t\\tFalse\\r\\n/human-donors/IGVFDO1080XFGV/\\te3c78ee7-8f9b-42e5-aee0-dcbd80946c60\\tIGVFDO1080XFGV\\t\\tigvf:donor_of_Jurkat\\tHomo sapiens\\tmale\\t/awards/HG012012/\\t\\tFHCRC-11 cell line donor,Jurkat cell line donor\\t/labs/j-michael-cherry/\\treleased\\t/users/43f2f757-5cbf-490a-9787-a1ee85a4cdcd/\\t\\t\\tFalse\\r\\n/human-donors/IGVFDO8315PGTI/\\tfad338b1-c1c1-44f9-a925-0d4e540e2cd8\\tIGVFDO8315PGTI\\t\\tigvf:donor_HUES8\\tHomo sapiens\\tmale\\t/awards/HG012051/\\t\\tHUES8 cell line donor,HVRDe008-A cell line donor\\t/labs/j-michael-cherry/\\treleased\\t/users/1e75d989-a438-4d77-a451-8a297fd3636e/\\t\\t\\tFalse\\r\\n/human-donors/IGVFDO7411YYYE/\\tc8a71ffe-0207-4359-af58-8c058af26061\\tIGVFDO7411YYYE\\t\\tigvf:donor_of_h7\\tHomo sapiens\\tfemale\\t/awards/HG012012/\\t\\tH7.s14 cell line donor,H7 cell line donor\\t/labs/j-michael-cherry/\\treleased\\t/users/43f2f757-5cbf-490a-9787-a1ee85a4cdcd/\\t\\t\\tFalse\\r\\n/human-donors/IGVFDO2718IDDQ/\\t9409e5ba-79dd-4a4f-9967-3bdbdaacf60c\\tIGVFDO2718IDDQ\\t\\tigvf:donor_of_H9\\tHomo sapiens\\tfemale\\t/awards/HG012012/\\t\\tH9 cell line donor\\t/labs/j-michael-cherry/\\treleased\\t/users/43f2f757-5cbf-490a-9787-a1ee85a4cdcd/\\t\\t\\tFalse\\r\\n/human-donors/IGVFDO7359LVPI/\\tcb89fae6-0fef-40cf-a17b-4a371a548786\\tIGVFDO7359LVPI\\t\\tigvf:donor_of_THP1\\tHomo sapiens\\tmale\\t/awards/HG012012/\\t\\tTHP1 cell line donor\\t/labs/j-michael-cherry/\\treleased\\t/users/43f2f757-5cbf-490a-9787-a1ee85a4cdcd/\\t\\t\\tFalse\\r\\n/human-donors/IGVFDO9571CSNU/\\t74fae408-6fc9-4169-b026-465f0694e094\\tIGVFDO9571CSNU\\t\\tigvf:donor_of_U2OS\\tHomo sapiens\\tfemale\\t/awards/HG012012/\\t\\tU2OS cell line donor,2T cell line donor\\t/labs/j-michael-cherry/\\treleased\\t/users/43f2f757-5cbf-490a-9787-a1ee85a4cdcd/\\t\\t\\tFalse\\r\\n/human-donors/IGVFDO1183RRBM/\\t9cf0ff5c-81bf-431f-ad25-df1375cc9c8c\\tIGVFDO1183RRBM\\t\\tigvf:donor_of_HEK293T\\tHomo sapiens\\tfemale\\t/awards/HG012012/\\t\\tHEK293T cell line donor\\t/labs/j-michael-cherry/\\treleased\\t/users/43f2f757-5cbf-490a-9787-a1ee85a4cdcd/\\t\\t\\tFalse\\r\\n/human-donors/IGVFDO2722UPGC/\\tb9daca31-a755-4388-b506-d0deeda99353\\tIGVFDO2722UPGC\\t\\tigvf:donor_of_HAP-1\\tHomo sapiens\\tmale\\t/awards/HG012012/\\t\\tHAP-1 cell line donor\\t/labs/j-michael-cherry/\\treleased\\t/users/43f2f757-5cbf-490a-9787-a1ee85a4cdcd/\\t\\t\\tFalse\\r\\n/human-donors/IGVFDO2115EOOA/\\tc55a4aa2-ee0a-4770-ace5-d6ab91fd6e1e\\tIGVFDO2115EOOA\\t\\tigvf:donor_of_HL-60\\tHomo sapiens\\tfemale\\t/awards/HG012012/\\t\\tHL-60 cell line donor\\t/labs/j-michael-cherry/\\treleased\\t/users/43f2f757-5cbf-490a-9787-a1ee85a4cdcd/\\t\\t\\tFalse\\r\\n/human-donors/IGVFDO2837BRET/\\tbe398233-5a6c-4609-ba6c-e83423e3fe7f\\tIGVFDO2837BRET\\t\\tigvf:donor_of_HepG2\\tHomo sapiens\\tmale\\t/awards/HG012012/\\t\\tHepG2 cell line donor\\t/labs/j-michael-cherry/\\treleased\\t/users/43f2f757-5cbf-490a-9787-a1ee85a4cdcd/\\t\\t\\tFalse\\r\\n/human-donors/IGVFDO0384OZRW/\\t45000040-716d-4ac1-bac7-85732a970f88\\tIGVFDO0384OZRW\\t\\tigvf:donor_of_HCT116\\tHomo sapiens\\tmale\\t/awards/HG012012/\\t\\t\\t/labs/j-michael-cherry/\\treleased\\t/users/6bae687f-b77a-46b9-af0e-a02c135cf42e/\\t\\t\\tFalse\\r\\n/human-donors/IGVFDO9208RPQQ/\\tea485aba-8b7f-4d28-a009-52fa4f56561a\\tIGVFDO9208RPQQ\\t\\tigvf:donor_of_K562\\tHomo sapiens\\tfemale\\t/awards/HG012012/\\t\\tGM05372 cell line donor,K562 cell line donor\\t/labs/j-michael-cherry/\\treleased\\t/users/43f2f757-5cbf-490a-9787-a1ee85a4cdcd/\\t\\t\\tFalse\\r\\n'"
      ]
     },
     "execution_count": 55,
     "metadata": {},
     "output_type": "execute_result"
    }
   ],
   "source": [
    "api.report(type=['HumanDonor'])"
   ]
  },
  {
   "cell_type": "code",
   "execution_count": 56,
   "id": "40aec99b-09b9-4ab7-91b0-48e3059f3419",
   "metadata": {},
   "outputs": [],
   "source": [
    "import pandas as pd\n",
    "from io import StringIO"
   ]
  },
  {
   "cell_type": "code",
   "execution_count": 57,
   "id": "d354da90-455b-4d14-ae49-bee28df5452d",
   "metadata": {},
   "outputs": [
    {
     "data": {
      "text/html": [
       "<div>\n",
       "<style scoped>\n",
       "    .dataframe tbody tr th:only-of-type {\n",
       "        vertical-align: middle;\n",
       "    }\n",
       "\n",
       "    .dataframe tbody tr th {\n",
       "        vertical-align: top;\n",
       "    }\n",
       "\n",
       "    .dataframe thead th {\n",
       "        text-align: right;\n",
       "    }\n",
       "</style>\n",
       "<table border=\"1\" class=\"dataframe\">\n",
       "  <thead>\n",
       "    <tr style=\"text-align: right;\">\n",
       "      <th></th>\n",
       "      <th>ID</th>\n",
       "      <th>UUID</th>\n",
       "      <th>Accession</th>\n",
       "      <th>Alternate Accessions</th>\n",
       "      <th>Aliases</th>\n",
       "      <th>Taxa</th>\n",
       "      <th>Sex</th>\n",
       "      <th>Award</th>\n",
       "      <th>Ethnicities</th>\n",
       "      <th>Human Donor Identifiers</th>\n",
       "      <th>Lab</th>\n",
       "      <th>Status</th>\n",
       "      <th>Submitted By</th>\n",
       "      <th>Collections</th>\n",
       "      <th>Phenotypic Features</th>\n",
       "      <th>Virtual</th>\n",
       "    </tr>\n",
       "  </thead>\n",
       "  <tbody>\n",
       "    <tr>\n",
       "      <th>0</th>\n",
       "      <td>/human-donors/IGVFDO1756PPKO/</td>\n",
       "      <td>7cccb0b9-99e6-425d-b684-152adc4b95e5</td>\n",
       "      <td>IGVFDO1756PPKO</td>\n",
       "      <td>NaN</td>\n",
       "      <td>igvf:donor_of_WTC11</td>\n",
       "      <td>Homo sapiens</td>\n",
       "      <td>male</td>\n",
       "      <td>/awards/HG012012/</td>\n",
       "      <td>Japanese</td>\n",
       "      <td>GM25256 cell line donor,WTC11 cell line donor</td>\n",
       "      <td>/labs/j-michael-cherry/</td>\n",
       "      <td>released</td>\n",
       "      <td>/users/43f2f757-5cbf-490a-9787-a1ee85a4cdcd/</td>\n",
       "      <td>NaN</td>\n",
       "      <td>NaN</td>\n",
       "      <td>False</td>\n",
       "    </tr>\n",
       "    <tr>\n",
       "      <th>1</th>\n",
       "      <td>/human-donors/IGVFDO3459DFTW/</td>\n",
       "      <td>c364e744-7b69-45e3-a6f1-55f423548632</td>\n",
       "      <td>IGVFDO3459DFTW</td>\n",
       "      <td>NaN</td>\n",
       "      <td>igvf:donor_of_teloHAEC</td>\n",
       "      <td>Homo sapiens</td>\n",
       "      <td>female</td>\n",
       "      <td>/awards/HG012012/</td>\n",
       "      <td>NaN</td>\n",
       "      <td>TeloHAEC cell line donor</td>\n",
       "      <td>/labs/j-michael-cherry/</td>\n",
       "      <td>released</td>\n",
       "      <td>/users/43f2f757-5cbf-490a-9787-a1ee85a4cdcd/</td>\n",
       "      <td>NaN</td>\n",
       "      <td>NaN</td>\n",
       "      <td>False</td>\n",
       "    </tr>\n",
       "    <tr>\n",
       "      <th>2</th>\n",
       "      <td>/human-donors/IGVFDO0965QSBA/</td>\n",
       "      <td>de29ea95-6778-46c4-92ce-15537a94896a</td>\n",
       "      <td>IGVFDO0965QSBA</td>\n",
       "      <td>NaN</td>\n",
       "      <td>igvf:donor_of_HUDEP-2</td>\n",
       "      <td>Homo sapiens</td>\n",
       "      <td>unspecified</td>\n",
       "      <td>/awards/HG012012/</td>\n",
       "      <td>Japanese</td>\n",
       "      <td>HUDEP-2 cell line donor</td>\n",
       "      <td>/labs/j-michael-cherry/</td>\n",
       "      <td>released</td>\n",
       "      <td>/users/43f2f757-5cbf-490a-9787-a1ee85a4cdcd/</td>\n",
       "      <td>NaN</td>\n",
       "      <td>NaN</td>\n",
       "      <td>False</td>\n",
       "    </tr>\n",
       "    <tr>\n",
       "      <th>3</th>\n",
       "      <td>/human-donors/IGVFDO6638HIAD/</td>\n",
       "      <td>1a69b34d-f8f8-4364-9676-aeb935461d5d</td>\n",
       "      <td>IGVFDO6638HIAD</td>\n",
       "      <td>NaN</td>\n",
       "      <td>igvf:donor_of_H1</td>\n",
       "      <td>Homo sapiens</td>\n",
       "      <td>male</td>\n",
       "      <td>/awards/HG012012/</td>\n",
       "      <td>NaN</td>\n",
       "      <td>H1 cell line donor</td>\n",
       "      <td>/labs/j-michael-cherry/</td>\n",
       "      <td>released</td>\n",
       "      <td>/users/43f2f757-5cbf-490a-9787-a1ee85a4cdcd/</td>\n",
       "      <td>NaN</td>\n",
       "      <td>NaN</td>\n",
       "      <td>False</td>\n",
       "    </tr>\n",
       "    <tr>\n",
       "      <th>4</th>\n",
       "      <td>/human-donors/IGVFDO1080XFGV/</td>\n",
       "      <td>e3c78ee7-8f9b-42e5-aee0-dcbd80946c60</td>\n",
       "      <td>IGVFDO1080XFGV</td>\n",
       "      <td>NaN</td>\n",
       "      <td>igvf:donor_of_Jurkat</td>\n",
       "      <td>Homo sapiens</td>\n",
       "      <td>male</td>\n",
       "      <td>/awards/HG012012/</td>\n",
       "      <td>NaN</td>\n",
       "      <td>FHCRC-11 cell line donor,Jurkat cell line donor</td>\n",
       "      <td>/labs/j-michael-cherry/</td>\n",
       "      <td>released</td>\n",
       "      <td>/users/43f2f757-5cbf-490a-9787-a1ee85a4cdcd/</td>\n",
       "      <td>NaN</td>\n",
       "      <td>NaN</td>\n",
       "      <td>False</td>\n",
       "    </tr>\n",
       "    <tr>\n",
       "      <th>5</th>\n",
       "      <td>/human-donors/IGVFDO8315PGTI/</td>\n",
       "      <td>fad338b1-c1c1-44f9-a925-0d4e540e2cd8</td>\n",
       "      <td>IGVFDO8315PGTI</td>\n",
       "      <td>NaN</td>\n",
       "      <td>igvf:donor_HUES8</td>\n",
       "      <td>Homo sapiens</td>\n",
       "      <td>male</td>\n",
       "      <td>/awards/HG012051/</td>\n",
       "      <td>NaN</td>\n",
       "      <td>HUES8 cell line donor,HVRDe008-A cell line donor</td>\n",
       "      <td>/labs/j-michael-cherry/</td>\n",
       "      <td>released</td>\n",
       "      <td>/users/1e75d989-a438-4d77-a451-8a297fd3636e/</td>\n",
       "      <td>NaN</td>\n",
       "      <td>NaN</td>\n",
       "      <td>False</td>\n",
       "    </tr>\n",
       "    <tr>\n",
       "      <th>6</th>\n",
       "      <td>/human-donors/IGVFDO7411YYYE/</td>\n",
       "      <td>c8a71ffe-0207-4359-af58-8c058af26061</td>\n",
       "      <td>IGVFDO7411YYYE</td>\n",
       "      <td>NaN</td>\n",
       "      <td>igvf:donor_of_h7</td>\n",
       "      <td>Homo sapiens</td>\n",
       "      <td>female</td>\n",
       "      <td>/awards/HG012012/</td>\n",
       "      <td>NaN</td>\n",
       "      <td>H7.s14 cell line donor,H7 cell line donor</td>\n",
       "      <td>/labs/j-michael-cherry/</td>\n",
       "      <td>released</td>\n",
       "      <td>/users/43f2f757-5cbf-490a-9787-a1ee85a4cdcd/</td>\n",
       "      <td>NaN</td>\n",
       "      <td>NaN</td>\n",
       "      <td>False</td>\n",
       "    </tr>\n",
       "    <tr>\n",
       "      <th>7</th>\n",
       "      <td>/human-donors/IGVFDO2718IDDQ/</td>\n",
       "      <td>9409e5ba-79dd-4a4f-9967-3bdbdaacf60c</td>\n",
       "      <td>IGVFDO2718IDDQ</td>\n",
       "      <td>NaN</td>\n",
       "      <td>igvf:donor_of_H9</td>\n",
       "      <td>Homo sapiens</td>\n",
       "      <td>female</td>\n",
       "      <td>/awards/HG012012/</td>\n",
       "      <td>NaN</td>\n",
       "      <td>H9 cell line donor</td>\n",
       "      <td>/labs/j-michael-cherry/</td>\n",
       "      <td>released</td>\n",
       "      <td>/users/43f2f757-5cbf-490a-9787-a1ee85a4cdcd/</td>\n",
       "      <td>NaN</td>\n",
       "      <td>NaN</td>\n",
       "      <td>False</td>\n",
       "    </tr>\n",
       "    <tr>\n",
       "      <th>8</th>\n",
       "      <td>/human-donors/IGVFDO7359LVPI/</td>\n",
       "      <td>cb89fae6-0fef-40cf-a17b-4a371a548786</td>\n",
       "      <td>IGVFDO7359LVPI</td>\n",
       "      <td>NaN</td>\n",
       "      <td>igvf:donor_of_THP1</td>\n",
       "      <td>Homo sapiens</td>\n",
       "      <td>male</td>\n",
       "      <td>/awards/HG012012/</td>\n",
       "      <td>NaN</td>\n",
       "      <td>THP1 cell line donor</td>\n",
       "      <td>/labs/j-michael-cherry/</td>\n",
       "      <td>released</td>\n",
       "      <td>/users/43f2f757-5cbf-490a-9787-a1ee85a4cdcd/</td>\n",
       "      <td>NaN</td>\n",
       "      <td>NaN</td>\n",
       "      <td>False</td>\n",
       "    </tr>\n",
       "    <tr>\n",
       "      <th>9</th>\n",
       "      <td>/human-donors/IGVFDO9571CSNU/</td>\n",
       "      <td>74fae408-6fc9-4169-b026-465f0694e094</td>\n",
       "      <td>IGVFDO9571CSNU</td>\n",
       "      <td>NaN</td>\n",
       "      <td>igvf:donor_of_U2OS</td>\n",
       "      <td>Homo sapiens</td>\n",
       "      <td>female</td>\n",
       "      <td>/awards/HG012012/</td>\n",
       "      <td>NaN</td>\n",
       "      <td>U2OS cell line donor,2T cell line donor</td>\n",
       "      <td>/labs/j-michael-cherry/</td>\n",
       "      <td>released</td>\n",
       "      <td>/users/43f2f757-5cbf-490a-9787-a1ee85a4cdcd/</td>\n",
       "      <td>NaN</td>\n",
       "      <td>NaN</td>\n",
       "      <td>False</td>\n",
       "    </tr>\n",
       "    <tr>\n",
       "      <th>10</th>\n",
       "      <td>/human-donors/IGVFDO1183RRBM/</td>\n",
       "      <td>9cf0ff5c-81bf-431f-ad25-df1375cc9c8c</td>\n",
       "      <td>IGVFDO1183RRBM</td>\n",
       "      <td>NaN</td>\n",
       "      <td>igvf:donor_of_HEK293T</td>\n",
       "      <td>Homo sapiens</td>\n",
       "      <td>female</td>\n",
       "      <td>/awards/HG012012/</td>\n",
       "      <td>NaN</td>\n",
       "      <td>HEK293T cell line donor</td>\n",
       "      <td>/labs/j-michael-cherry/</td>\n",
       "      <td>released</td>\n",
       "      <td>/users/43f2f757-5cbf-490a-9787-a1ee85a4cdcd/</td>\n",
       "      <td>NaN</td>\n",
       "      <td>NaN</td>\n",
       "      <td>False</td>\n",
       "    </tr>\n",
       "    <tr>\n",
       "      <th>11</th>\n",
       "      <td>/human-donors/IGVFDO2722UPGC/</td>\n",
       "      <td>b9daca31-a755-4388-b506-d0deeda99353</td>\n",
       "      <td>IGVFDO2722UPGC</td>\n",
       "      <td>NaN</td>\n",
       "      <td>igvf:donor_of_HAP-1</td>\n",
       "      <td>Homo sapiens</td>\n",
       "      <td>male</td>\n",
       "      <td>/awards/HG012012/</td>\n",
       "      <td>NaN</td>\n",
       "      <td>HAP-1 cell line donor</td>\n",
       "      <td>/labs/j-michael-cherry/</td>\n",
       "      <td>released</td>\n",
       "      <td>/users/43f2f757-5cbf-490a-9787-a1ee85a4cdcd/</td>\n",
       "      <td>NaN</td>\n",
       "      <td>NaN</td>\n",
       "      <td>False</td>\n",
       "    </tr>\n",
       "    <tr>\n",
       "      <th>12</th>\n",
       "      <td>/human-donors/IGVFDO2115EOOA/</td>\n",
       "      <td>c55a4aa2-ee0a-4770-ace5-d6ab91fd6e1e</td>\n",
       "      <td>IGVFDO2115EOOA</td>\n",
       "      <td>NaN</td>\n",
       "      <td>igvf:donor_of_HL-60</td>\n",
       "      <td>Homo sapiens</td>\n",
       "      <td>female</td>\n",
       "      <td>/awards/HG012012/</td>\n",
       "      <td>NaN</td>\n",
       "      <td>HL-60 cell line donor</td>\n",
       "      <td>/labs/j-michael-cherry/</td>\n",
       "      <td>released</td>\n",
       "      <td>/users/43f2f757-5cbf-490a-9787-a1ee85a4cdcd/</td>\n",
       "      <td>NaN</td>\n",
       "      <td>NaN</td>\n",
       "      <td>False</td>\n",
       "    </tr>\n",
       "    <tr>\n",
       "      <th>13</th>\n",
       "      <td>/human-donors/IGVFDO2837BRET/</td>\n",
       "      <td>be398233-5a6c-4609-ba6c-e83423e3fe7f</td>\n",
       "      <td>IGVFDO2837BRET</td>\n",
       "      <td>NaN</td>\n",
       "      <td>igvf:donor_of_HepG2</td>\n",
       "      <td>Homo sapiens</td>\n",
       "      <td>male</td>\n",
       "      <td>/awards/HG012012/</td>\n",
       "      <td>NaN</td>\n",
       "      <td>HepG2 cell line donor</td>\n",
       "      <td>/labs/j-michael-cherry/</td>\n",
       "      <td>released</td>\n",
       "      <td>/users/43f2f757-5cbf-490a-9787-a1ee85a4cdcd/</td>\n",
       "      <td>NaN</td>\n",
       "      <td>NaN</td>\n",
       "      <td>False</td>\n",
       "    </tr>\n",
       "    <tr>\n",
       "      <th>14</th>\n",
       "      <td>/human-donors/IGVFDO0384OZRW/</td>\n",
       "      <td>45000040-716d-4ac1-bac7-85732a970f88</td>\n",
       "      <td>IGVFDO0384OZRW</td>\n",
       "      <td>NaN</td>\n",
       "      <td>igvf:donor_of_HCT116</td>\n",
       "      <td>Homo sapiens</td>\n",
       "      <td>male</td>\n",
       "      <td>/awards/HG012012/</td>\n",
       "      <td>NaN</td>\n",
       "      <td>NaN</td>\n",
       "      <td>/labs/j-michael-cherry/</td>\n",
       "      <td>released</td>\n",
       "      <td>/users/6bae687f-b77a-46b9-af0e-a02c135cf42e/</td>\n",
       "      <td>NaN</td>\n",
       "      <td>NaN</td>\n",
       "      <td>False</td>\n",
       "    </tr>\n",
       "    <tr>\n",
       "      <th>15</th>\n",
       "      <td>/human-donors/IGVFDO9208RPQQ/</td>\n",
       "      <td>ea485aba-8b7f-4d28-a009-52fa4f56561a</td>\n",
       "      <td>IGVFDO9208RPQQ</td>\n",
       "      <td>NaN</td>\n",
       "      <td>igvf:donor_of_K562</td>\n",
       "      <td>Homo sapiens</td>\n",
       "      <td>female</td>\n",
       "      <td>/awards/HG012012/</td>\n",
       "      <td>NaN</td>\n",
       "      <td>GM05372 cell line donor,K562 cell line donor</td>\n",
       "      <td>/labs/j-michael-cherry/</td>\n",
       "      <td>released</td>\n",
       "      <td>/users/43f2f757-5cbf-490a-9787-a1ee85a4cdcd/</td>\n",
       "      <td>NaN</td>\n",
       "      <td>NaN</td>\n",
       "      <td>False</td>\n",
       "    </tr>\n",
       "  </tbody>\n",
       "</table>\n",
       "</div>"
      ],
      "text/plain": [
       "                               ID                                  UUID  \\\n",
       "0   /human-donors/IGVFDO1756PPKO/  7cccb0b9-99e6-425d-b684-152adc4b95e5   \n",
       "1   /human-donors/IGVFDO3459DFTW/  c364e744-7b69-45e3-a6f1-55f423548632   \n",
       "2   /human-donors/IGVFDO0965QSBA/  de29ea95-6778-46c4-92ce-15537a94896a   \n",
       "3   /human-donors/IGVFDO6638HIAD/  1a69b34d-f8f8-4364-9676-aeb935461d5d   \n",
       "4   /human-donors/IGVFDO1080XFGV/  e3c78ee7-8f9b-42e5-aee0-dcbd80946c60   \n",
       "5   /human-donors/IGVFDO8315PGTI/  fad338b1-c1c1-44f9-a925-0d4e540e2cd8   \n",
       "6   /human-donors/IGVFDO7411YYYE/  c8a71ffe-0207-4359-af58-8c058af26061   \n",
       "7   /human-donors/IGVFDO2718IDDQ/  9409e5ba-79dd-4a4f-9967-3bdbdaacf60c   \n",
       "8   /human-donors/IGVFDO7359LVPI/  cb89fae6-0fef-40cf-a17b-4a371a548786   \n",
       "9   /human-donors/IGVFDO9571CSNU/  74fae408-6fc9-4169-b026-465f0694e094   \n",
       "10  /human-donors/IGVFDO1183RRBM/  9cf0ff5c-81bf-431f-ad25-df1375cc9c8c   \n",
       "11  /human-donors/IGVFDO2722UPGC/  b9daca31-a755-4388-b506-d0deeda99353   \n",
       "12  /human-donors/IGVFDO2115EOOA/  c55a4aa2-ee0a-4770-ace5-d6ab91fd6e1e   \n",
       "13  /human-donors/IGVFDO2837BRET/  be398233-5a6c-4609-ba6c-e83423e3fe7f   \n",
       "14  /human-donors/IGVFDO0384OZRW/  45000040-716d-4ac1-bac7-85732a970f88   \n",
       "15  /human-donors/IGVFDO9208RPQQ/  ea485aba-8b7f-4d28-a009-52fa4f56561a   \n",
       "\n",
       "         Accession  Alternate Accessions                 Aliases  \\\n",
       "0   IGVFDO1756PPKO                   NaN     igvf:donor_of_WTC11   \n",
       "1   IGVFDO3459DFTW                   NaN  igvf:donor_of_teloHAEC   \n",
       "2   IGVFDO0965QSBA                   NaN   igvf:donor_of_HUDEP-2   \n",
       "3   IGVFDO6638HIAD                   NaN        igvf:donor_of_H1   \n",
       "4   IGVFDO1080XFGV                   NaN    igvf:donor_of_Jurkat   \n",
       "5   IGVFDO8315PGTI                   NaN        igvf:donor_HUES8   \n",
       "6   IGVFDO7411YYYE                   NaN        igvf:donor_of_h7   \n",
       "7   IGVFDO2718IDDQ                   NaN        igvf:donor_of_H9   \n",
       "8   IGVFDO7359LVPI                   NaN      igvf:donor_of_THP1   \n",
       "9   IGVFDO9571CSNU                   NaN      igvf:donor_of_U2OS   \n",
       "10  IGVFDO1183RRBM                   NaN   igvf:donor_of_HEK293T   \n",
       "11  IGVFDO2722UPGC                   NaN     igvf:donor_of_HAP-1   \n",
       "12  IGVFDO2115EOOA                   NaN     igvf:donor_of_HL-60   \n",
       "13  IGVFDO2837BRET                   NaN     igvf:donor_of_HepG2   \n",
       "14  IGVFDO0384OZRW                   NaN    igvf:donor_of_HCT116   \n",
       "15  IGVFDO9208RPQQ                   NaN      igvf:donor_of_K562   \n",
       "\n",
       "            Taxa          Sex              Award Ethnicities  \\\n",
       "0   Homo sapiens         male  /awards/HG012012/    Japanese   \n",
       "1   Homo sapiens       female  /awards/HG012012/         NaN   \n",
       "2   Homo sapiens  unspecified  /awards/HG012012/    Japanese   \n",
       "3   Homo sapiens         male  /awards/HG012012/         NaN   \n",
       "4   Homo sapiens         male  /awards/HG012012/         NaN   \n",
       "5   Homo sapiens         male  /awards/HG012051/         NaN   \n",
       "6   Homo sapiens       female  /awards/HG012012/         NaN   \n",
       "7   Homo sapiens       female  /awards/HG012012/         NaN   \n",
       "8   Homo sapiens         male  /awards/HG012012/         NaN   \n",
       "9   Homo sapiens       female  /awards/HG012012/         NaN   \n",
       "10  Homo sapiens       female  /awards/HG012012/         NaN   \n",
       "11  Homo sapiens         male  /awards/HG012012/         NaN   \n",
       "12  Homo sapiens       female  /awards/HG012012/         NaN   \n",
       "13  Homo sapiens         male  /awards/HG012012/         NaN   \n",
       "14  Homo sapiens         male  /awards/HG012012/         NaN   \n",
       "15  Homo sapiens       female  /awards/HG012012/         NaN   \n",
       "\n",
       "                             Human Donor Identifiers                      Lab  \\\n",
       "0      GM25256 cell line donor,WTC11 cell line donor  /labs/j-michael-cherry/   \n",
       "1                           TeloHAEC cell line donor  /labs/j-michael-cherry/   \n",
       "2                            HUDEP-2 cell line donor  /labs/j-michael-cherry/   \n",
       "3                                 H1 cell line donor  /labs/j-michael-cherry/   \n",
       "4    FHCRC-11 cell line donor,Jurkat cell line donor  /labs/j-michael-cherry/   \n",
       "5   HUES8 cell line donor,HVRDe008-A cell line donor  /labs/j-michael-cherry/   \n",
       "6          H7.s14 cell line donor,H7 cell line donor  /labs/j-michael-cherry/   \n",
       "7                                 H9 cell line donor  /labs/j-michael-cherry/   \n",
       "8                               THP1 cell line donor  /labs/j-michael-cherry/   \n",
       "9            U2OS cell line donor,2T cell line donor  /labs/j-michael-cherry/   \n",
       "10                           HEK293T cell line donor  /labs/j-michael-cherry/   \n",
       "11                             HAP-1 cell line donor  /labs/j-michael-cherry/   \n",
       "12                             HL-60 cell line donor  /labs/j-michael-cherry/   \n",
       "13                             HepG2 cell line donor  /labs/j-michael-cherry/   \n",
       "14                                               NaN  /labs/j-michael-cherry/   \n",
       "15      GM05372 cell line donor,K562 cell line donor  /labs/j-michael-cherry/   \n",
       "\n",
       "      Status                                  Submitted By  Collections  \\\n",
       "0   released  /users/43f2f757-5cbf-490a-9787-a1ee85a4cdcd/          NaN   \n",
       "1   released  /users/43f2f757-5cbf-490a-9787-a1ee85a4cdcd/          NaN   \n",
       "2   released  /users/43f2f757-5cbf-490a-9787-a1ee85a4cdcd/          NaN   \n",
       "3   released  /users/43f2f757-5cbf-490a-9787-a1ee85a4cdcd/          NaN   \n",
       "4   released  /users/43f2f757-5cbf-490a-9787-a1ee85a4cdcd/          NaN   \n",
       "5   released  /users/1e75d989-a438-4d77-a451-8a297fd3636e/          NaN   \n",
       "6   released  /users/43f2f757-5cbf-490a-9787-a1ee85a4cdcd/          NaN   \n",
       "7   released  /users/43f2f757-5cbf-490a-9787-a1ee85a4cdcd/          NaN   \n",
       "8   released  /users/43f2f757-5cbf-490a-9787-a1ee85a4cdcd/          NaN   \n",
       "9   released  /users/43f2f757-5cbf-490a-9787-a1ee85a4cdcd/          NaN   \n",
       "10  released  /users/43f2f757-5cbf-490a-9787-a1ee85a4cdcd/          NaN   \n",
       "11  released  /users/43f2f757-5cbf-490a-9787-a1ee85a4cdcd/          NaN   \n",
       "12  released  /users/43f2f757-5cbf-490a-9787-a1ee85a4cdcd/          NaN   \n",
       "13  released  /users/43f2f757-5cbf-490a-9787-a1ee85a4cdcd/          NaN   \n",
       "14  released  /users/6bae687f-b77a-46b9-af0e-a02c135cf42e/          NaN   \n",
       "15  released  /users/43f2f757-5cbf-490a-9787-a1ee85a4cdcd/          NaN   \n",
       "\n",
       "    Phenotypic Features  Virtual  \n",
       "0                   NaN    False  \n",
       "1                   NaN    False  \n",
       "2                   NaN    False  \n",
       "3                   NaN    False  \n",
       "4                   NaN    False  \n",
       "5                   NaN    False  \n",
       "6                   NaN    False  \n",
       "7                   NaN    False  \n",
       "8                   NaN    False  \n",
       "9                   NaN    False  \n",
       "10                  NaN    False  \n",
       "11                  NaN    False  \n",
       "12                  NaN    False  \n",
       "13                  NaN    False  \n",
       "14                  NaN    False  \n",
       "15                  NaN    False  "
      ]
     },
     "execution_count": 57,
     "metadata": {},
     "output_type": "execute_result"
    }
   ],
   "source": [
    "# Can read directly into pandas dataframe. \n",
    "# Specify tab seperation.\n",
    "# Skip first row which is URL of report.\n",
    "df = pd.read_csv(StringIO(api.report(type=['HumanDonor'])), sep='\\t', skiprows=1)\n",
    "df"
   ]
  },
  {
   "cell_type": "code",
   "execution_count": 58,
   "id": "ef205a06-b509-4791-8ea1-d4043ab91c7d",
   "metadata": {},
   "outputs": [
    {
     "data": {
      "text/plain": [
       "(16, 16)"
      ]
     },
     "execution_count": 58,
     "metadata": {},
     "output_type": "execute_result"
    }
   ],
   "source": [
    "df.shape"
   ]
  },
  {
   "cell_type": "code",
   "execution_count": 59,
   "id": "e0248bb5-8305-478d-8e30-b966caf26d03",
   "metadata": {},
   "outputs": [
    {
     "data": {
      "text/html": [
       "<div>\n",
       "<style scoped>\n",
       "    .dataframe tbody tr th:only-of-type {\n",
       "        vertical-align: middle;\n",
       "    }\n",
       "\n",
       "    .dataframe tbody tr th {\n",
       "        vertical-align: top;\n",
       "    }\n",
       "\n",
       "    .dataframe thead th {\n",
       "        text-align: right;\n",
       "    }\n",
       "</style>\n",
       "<table border=\"1\" class=\"dataframe\">\n",
       "  <thead>\n",
       "    <tr style=\"text-align: right;\">\n",
       "      <th></th>\n",
       "      <th>ID</th>\n",
       "      <th>Accession</th>\n",
       "      <th>Award</th>\n",
       "      <th>Human Donor Identifiers</th>\n",
       "    </tr>\n",
       "  </thead>\n",
       "  <tbody>\n",
       "    <tr>\n",
       "      <th>0</th>\n",
       "      <td>/human-donors/IGVFDO1756PPKO/</td>\n",
       "      <td>IGVFDO1756PPKO</td>\n",
       "      <td>/awards/HG012012/</td>\n",
       "      <td>GM25256 cell line donor,WTC11 cell line donor</td>\n",
       "    </tr>\n",
       "    <tr>\n",
       "      <th>1</th>\n",
       "      <td>/human-donors/IGVFDO3459DFTW/</td>\n",
       "      <td>IGVFDO3459DFTW</td>\n",
       "      <td>/awards/HG012012/</td>\n",
       "      <td>TeloHAEC cell line donor</td>\n",
       "    </tr>\n",
       "    <tr>\n",
       "      <th>2</th>\n",
       "      <td>/human-donors/IGVFDO0965QSBA/</td>\n",
       "      <td>IGVFDO0965QSBA</td>\n",
       "      <td>/awards/HG012012/</td>\n",
       "      <td>HUDEP-2 cell line donor</td>\n",
       "    </tr>\n",
       "    <tr>\n",
       "      <th>3</th>\n",
       "      <td>/human-donors/IGVFDO6638HIAD/</td>\n",
       "      <td>IGVFDO6638HIAD</td>\n",
       "      <td>/awards/HG012012/</td>\n",
       "      <td>H1 cell line donor</td>\n",
       "    </tr>\n",
       "    <tr>\n",
       "      <th>4</th>\n",
       "      <td>/human-donors/IGVFDO1080XFGV/</td>\n",
       "      <td>IGVFDO1080XFGV</td>\n",
       "      <td>/awards/HG012012/</td>\n",
       "      <td>FHCRC-11 cell line donor,Jurkat cell line donor</td>\n",
       "    </tr>\n",
       "    <tr>\n",
       "      <th>5</th>\n",
       "      <td>/human-donors/IGVFDO8315PGTI/</td>\n",
       "      <td>IGVFDO8315PGTI</td>\n",
       "      <td>/awards/HG012051/</td>\n",
       "      <td>HUES8 cell line donor,HVRDe008-A cell line donor</td>\n",
       "    </tr>\n",
       "    <tr>\n",
       "      <th>6</th>\n",
       "      <td>/human-donors/IGVFDO7411YYYE/</td>\n",
       "      <td>IGVFDO7411YYYE</td>\n",
       "      <td>/awards/HG012012/</td>\n",
       "      <td>H7.s14 cell line donor,H7 cell line donor</td>\n",
       "    </tr>\n",
       "    <tr>\n",
       "      <th>7</th>\n",
       "      <td>/human-donors/IGVFDO2718IDDQ/</td>\n",
       "      <td>IGVFDO2718IDDQ</td>\n",
       "      <td>/awards/HG012012/</td>\n",
       "      <td>H9 cell line donor</td>\n",
       "    </tr>\n",
       "    <tr>\n",
       "      <th>8</th>\n",
       "      <td>/human-donors/IGVFDO7359LVPI/</td>\n",
       "      <td>IGVFDO7359LVPI</td>\n",
       "      <td>/awards/HG012012/</td>\n",
       "      <td>THP1 cell line donor</td>\n",
       "    </tr>\n",
       "    <tr>\n",
       "      <th>9</th>\n",
       "      <td>/human-donors/IGVFDO9571CSNU/</td>\n",
       "      <td>IGVFDO9571CSNU</td>\n",
       "      <td>/awards/HG012012/</td>\n",
       "      <td>U2OS cell line donor,2T cell line donor</td>\n",
       "    </tr>\n",
       "    <tr>\n",
       "      <th>10</th>\n",
       "      <td>/human-donors/IGVFDO1183RRBM/</td>\n",
       "      <td>IGVFDO1183RRBM</td>\n",
       "      <td>/awards/HG012012/</td>\n",
       "      <td>HEK293T cell line donor</td>\n",
       "    </tr>\n",
       "    <tr>\n",
       "      <th>11</th>\n",
       "      <td>/human-donors/IGVFDO2722UPGC/</td>\n",
       "      <td>IGVFDO2722UPGC</td>\n",
       "      <td>/awards/HG012012/</td>\n",
       "      <td>HAP-1 cell line donor</td>\n",
       "    </tr>\n",
       "    <tr>\n",
       "      <th>12</th>\n",
       "      <td>/human-donors/IGVFDO2115EOOA/</td>\n",
       "      <td>IGVFDO2115EOOA</td>\n",
       "      <td>/awards/HG012012/</td>\n",
       "      <td>HL-60 cell line donor</td>\n",
       "    </tr>\n",
       "    <tr>\n",
       "      <th>13</th>\n",
       "      <td>/human-donors/IGVFDO2837BRET/</td>\n",
       "      <td>IGVFDO2837BRET</td>\n",
       "      <td>/awards/HG012012/</td>\n",
       "      <td>HepG2 cell line donor</td>\n",
       "    </tr>\n",
       "    <tr>\n",
       "      <th>14</th>\n",
       "      <td>/human-donors/IGVFDO0384OZRW/</td>\n",
       "      <td>IGVFDO0384OZRW</td>\n",
       "      <td>/awards/HG012012/</td>\n",
       "      <td>NaN</td>\n",
       "    </tr>\n",
       "    <tr>\n",
       "      <th>15</th>\n",
       "      <td>/human-donors/IGVFDO9208RPQQ/</td>\n",
       "      <td>IGVFDO9208RPQQ</td>\n",
       "      <td>/awards/HG012012/</td>\n",
       "      <td>GM05372 cell line donor,K562 cell line donor</td>\n",
       "    </tr>\n",
       "  </tbody>\n",
       "</table>\n",
       "</div>"
      ],
      "text/plain": [
       "                               ID       Accession              Award  \\\n",
       "0   /human-donors/IGVFDO1756PPKO/  IGVFDO1756PPKO  /awards/HG012012/   \n",
       "1   /human-donors/IGVFDO3459DFTW/  IGVFDO3459DFTW  /awards/HG012012/   \n",
       "2   /human-donors/IGVFDO0965QSBA/  IGVFDO0965QSBA  /awards/HG012012/   \n",
       "3   /human-donors/IGVFDO6638HIAD/  IGVFDO6638HIAD  /awards/HG012012/   \n",
       "4   /human-donors/IGVFDO1080XFGV/  IGVFDO1080XFGV  /awards/HG012012/   \n",
       "5   /human-donors/IGVFDO8315PGTI/  IGVFDO8315PGTI  /awards/HG012051/   \n",
       "6   /human-donors/IGVFDO7411YYYE/  IGVFDO7411YYYE  /awards/HG012012/   \n",
       "7   /human-donors/IGVFDO2718IDDQ/  IGVFDO2718IDDQ  /awards/HG012012/   \n",
       "8   /human-donors/IGVFDO7359LVPI/  IGVFDO7359LVPI  /awards/HG012012/   \n",
       "9   /human-donors/IGVFDO9571CSNU/  IGVFDO9571CSNU  /awards/HG012012/   \n",
       "10  /human-donors/IGVFDO1183RRBM/  IGVFDO1183RRBM  /awards/HG012012/   \n",
       "11  /human-donors/IGVFDO2722UPGC/  IGVFDO2722UPGC  /awards/HG012012/   \n",
       "12  /human-donors/IGVFDO2115EOOA/  IGVFDO2115EOOA  /awards/HG012012/   \n",
       "13  /human-donors/IGVFDO2837BRET/  IGVFDO2837BRET  /awards/HG012012/   \n",
       "14  /human-donors/IGVFDO0384OZRW/  IGVFDO0384OZRW  /awards/HG012012/   \n",
       "15  /human-donors/IGVFDO9208RPQQ/  IGVFDO9208RPQQ  /awards/HG012012/   \n",
       "\n",
       "                             Human Donor Identifiers  \n",
       "0      GM25256 cell line donor,WTC11 cell line donor  \n",
       "1                           TeloHAEC cell line donor  \n",
       "2                            HUDEP-2 cell line donor  \n",
       "3                                 H1 cell line donor  \n",
       "4    FHCRC-11 cell line donor,Jurkat cell line donor  \n",
       "5   HUES8 cell line donor,HVRDe008-A cell line donor  \n",
       "6          H7.s14 cell line donor,H7 cell line donor  \n",
       "7                                 H9 cell line donor  \n",
       "8                               THP1 cell line donor  \n",
       "9            U2OS cell line donor,2T cell line donor  \n",
       "10                           HEK293T cell line donor  \n",
       "11                             HAP-1 cell line donor  \n",
       "12                             HL-60 cell line donor  \n",
       "13                             HepG2 cell line donor  \n",
       "14                                               NaN  \n",
       "15      GM05372 cell line donor,K562 cell line donor  "
      ]
     },
     "execution_count": 59,
     "metadata": {},
     "output_type": "execute_result"
    }
   ],
   "source": [
    "# Can also only include specfic fields as columns to reduce data transfer, or return fields that are not returned by default.\n",
    "# Refer to the fields in the model (e.g. https://github.com/IGVF-DACC/igvf-python-client/blob/main/docs/HumanDonor.md) or \n",
    "# the properties in the schema for the correct fields names.\n",
    "df = pd.read_csv(\n",
    "    StringIO(\n",
    "        api.report(\n",
    "            type=['HumanDonor'],\n",
    "            include_fields=[\n",
    "                '@id', \n",
    "                'accession',\n",
    "                'award', \n",
    "                'human_donor_identifiers',\n",
    "            ]\n",
    "        )\n",
    "    ),\n",
    "    sep='\\t', \n",
    "    skiprows=1\n",
    "    )\n",
    "df"
   ]
  },
  {
   "cell_type": "markdown",
   "id": "0f010340-6d83-48d2-b6f2-d7422cc70de6",
   "metadata": {},
   "source": [
    "# Download file"
   ]
  },
  {
   "cell_type": "markdown",
   "id": "df55b153-d601-4891-ab6b-549b17032ffc",
   "metadata": {},
   "source": [
    "The download endpoint return raw bytes of a file, given a file UUID or @id. Most files are big and should probably be saved directly to disk. In the case of a gzipped TSV, we can read it directly into a pandas dataframe."
   ]
  },
  {
   "cell_type": "code",
   "execution_count": 60,
   "id": "53c58f54-87db-40ad-b31d-d9f3a8bae41b",
   "metadata": {},
   "outputs": [],
   "source": [
    "# Find TSV file.\n",
    "tsv_files = api.search(type=['File'], field_filters={'file_format': 'tsv'})"
   ]
  },
  {
   "cell_type": "code",
   "execution_count": 61,
   "id": "88a22bd9-874b-43f8-9534-440ca7b98422",
   "metadata": {},
   "outputs": [
    {
     "data": {
      "text/plain": [
       "49"
      ]
     },
     "execution_count": 61,
     "metadata": {},
     "output_type": "execute_result"
    }
   ],
   "source": [
    "tsv_files.total"
   ]
  },
  {
   "cell_type": "code",
   "execution_count": 62,
   "id": "c086b475-7568-4e63-b482-99a43300cf52",
   "metadata": {},
   "outputs": [],
   "source": [
    "tsv_file = tsv_files.graph[0].actual_instance"
   ]
  },
  {
   "cell_type": "code",
   "execution_count": 63,
   "id": "1cf57074-5e3f-45ea-b0ce-6f4b147b888b",
   "metadata": {},
   "outputs": [
    {
     "data": {
      "text/plain": [
       "TabularFile(cell_type_annotation=None, controlled_access=False, anvil_url=None, assembly='GRCh38', release_timestamp='2024-07-10T21:20:03.378713+00:00', file_format_type=None, transcriptome_annotation=None, documents=None, lab='/labs/jesse-engreitz/', award='/awards/HG011972/', accession='IGVFFI8092FZKL', alternate_accessions=None, collections=None, status='released', revoke_detail=None, schema_version='11', uuid='fdbdc159-e5b9-40a8-b788-3f72c9886b03', notes=None, aliases=['jesse-engreitz:locus_file_CRUDO_MYC'], creation_timestamp='2024-05-31T21:02:44.602697+00:00', submitted_by='/users/100f06c6-83a7-4b4d-9dfd-053a1829773b/', submitter_comment=None, description=None, analysis_step_version=None, content_md5sum='4aa6e40c55b54a3cc40d1cb1ef9093a3', content_type='elements reference', dbxrefs=None, derived_from=None, file_format='tsv', file_format_specifications=None, file_set='/curated-sets/IGVFDS2476WFVW/', file_size=4732, md5sum='ea8051cc2571447ca8f413aa99a4764a', submitted_file_name='/oak/stanford/groups/engreitz/Projects/Cohesin/240410_IGVF_upload/MYC.large_scale_loci_list.bed.gz', upload_status='validated', validation_error_detail=None, id='/tabular-files/IGVFFI8092FZKL/', type=['TabularFile', 'File', 'Item'], summary='GRCh38 elements reference', integrated_in=[], input_file_for=[], gene_list_for=[], loci_list_for=['/construct-library-sets/IGVFDS7857SYCK/'], href='/tabular-files/IGVFFI8092FZKL/@@download/IGVFFI8092FZKL.tsv.gz', s3_uri='s3://igvf-files/2024/05/31/fdbdc159-e5b9-40a8-b788-3f72c9886b03/IGVFFI8092FZKL.tsv.gz', upload_credentials=None)"
      ]
     },
     "execution_count": 63,
     "metadata": {},
     "output_type": "execute_result"
    }
   ],
   "source": [
    "tsv_file"
   ]
  },
  {
   "cell_type": "code",
   "execution_count": 64,
   "id": "14b257d4-2baf-4dc6-8c82-c7ac47cd0b0a",
   "metadata": {},
   "outputs": [
    {
     "data": {
      "text/plain": [
       "'/tabular-files/IGVFFI8092FZKL/'"
      ]
     },
     "execution_count": 64,
     "metadata": {},
     "output_type": "execute_result"
    }
   ],
   "source": [
    "tsv_file.id"
   ]
  },
  {
   "cell_type": "code",
   "execution_count": 65,
   "id": "8a8ee050-497a-4015-a736-a803a0b47f7c",
   "metadata": {},
   "outputs": [
    {
     "data": {
      "text/plain": [
       "'GRCh38 elements reference'"
      ]
     },
     "execution_count": 65,
     "metadata": {},
     "output_type": "execute_result"
    }
   ],
   "source": [
    "tsv_file.summary"
   ]
  },
  {
   "cell_type": "code",
   "execution_count": 66,
   "id": "4bf52184-36b6-4cd8-a978-2945d83565e0",
   "metadata": {},
   "outputs": [
    {
     "data": {
      "text/plain": [
       "4732"
      ]
     },
     "execution_count": 66,
     "metadata": {},
     "output_type": "execute_result"
    }
   ],
   "source": [
    "# File size in bytes.\n",
    "tsv_file.file_size"
   ]
  },
  {
   "cell_type": "code",
   "execution_count": 67,
   "id": "860bc75c-7b6e-40cb-98b3-15a4be4fd599",
   "metadata": {},
   "outputs": [],
   "source": [
    "from io import BytesIO"
   ]
  },
  {
   "cell_type": "code",
   "execution_count": 68,
   "id": "b1f36093-96cf-484d-b7f9-d64ba8a38e78",
   "metadata": {},
   "outputs": [
    {
     "data": {
      "text/html": [
       "<div>\n",
       "<style scoped>\n",
       "    .dataframe tbody tr th:only-of-type {\n",
       "        vertical-align: middle;\n",
       "    }\n",
       "\n",
       "    .dataframe tbody tr th {\n",
       "        vertical-align: top;\n",
       "    }\n",
       "\n",
       "    .dataframe thead th {\n",
       "        text-align: right;\n",
       "    }\n",
       "</style>\n",
       "<table border=\"1\" class=\"dataframe\">\n",
       "  <thead>\n",
       "    <tr style=\"text-align: right;\">\n",
       "      <th></th>\n",
       "      <th>0</th>\n",
       "      <th>1</th>\n",
       "      <th>2</th>\n",
       "    </tr>\n",
       "  </thead>\n",
       "  <tbody>\n",
       "    <tr>\n",
       "      <th>0</th>\n",
       "      <td>chr8</td>\n",
       "      <td>124741787</td>\n",
       "      <td>124742287</td>\n",
       "    </tr>\n",
       "    <tr>\n",
       "      <th>1</th>\n",
       "      <td>chr8</td>\n",
       "      <td>124751476</td>\n",
       "      <td>124751976</td>\n",
       "    </tr>\n",
       "    <tr>\n",
       "      <th>2</th>\n",
       "      <td>chr8</td>\n",
       "      <td>124784449</td>\n",
       "      <td>124784949</td>\n",
       "    </tr>\n",
       "    <tr>\n",
       "      <th>3</th>\n",
       "      <td>chr8</td>\n",
       "      <td>124799434</td>\n",
       "      <td>124799934</td>\n",
       "    </tr>\n",
       "    <tr>\n",
       "      <th>4</th>\n",
       "      <td>chr8</td>\n",
       "      <td>124810348</td>\n",
       "      <td>124810848</td>\n",
       "    </tr>\n",
       "    <tr>\n",
       "      <th>...</th>\n",
       "      <td>...</td>\n",
       "      <td>...</td>\n",
       "      <td>...</td>\n",
       "    </tr>\n",
       "    <tr>\n",
       "      <th>572</th>\n",
       "      <td>chr8</td>\n",
       "      <td>130681801</td>\n",
       "      <td>130682301</td>\n",
       "    </tr>\n",
       "    <tr>\n",
       "      <th>573</th>\n",
       "      <td>chr8</td>\n",
       "      <td>130692145</td>\n",
       "      <td>130692645</td>\n",
       "    </tr>\n",
       "    <tr>\n",
       "      <th>574</th>\n",
       "      <td>chr8</td>\n",
       "      <td>130701645</td>\n",
       "      <td>130702145</td>\n",
       "    </tr>\n",
       "    <tr>\n",
       "      <th>575</th>\n",
       "      <td>chr8</td>\n",
       "      <td>130716836</td>\n",
       "      <td>130717336</td>\n",
       "    </tr>\n",
       "    <tr>\n",
       "      <th>576</th>\n",
       "      <td>chr8</td>\n",
       "      <td>130726887</td>\n",
       "      <td>130728616</td>\n",
       "    </tr>\n",
       "  </tbody>\n",
       "</table>\n",
       "<p>577 rows × 3 columns</p>\n",
       "</div>"
      ],
      "text/plain": [
       "        0          1          2\n",
       "0    chr8  124741787  124742287\n",
       "1    chr8  124751476  124751976\n",
       "2    chr8  124784449  124784949\n",
       "3    chr8  124799434  124799934\n",
       "4    chr8  124810348  124810848\n",
       "..    ...        ...        ...\n",
       "572  chr8  130681801  130682301\n",
       "573  chr8  130692145  130692645\n",
       "574  chr8  130701645  130702145\n",
       "575  chr8  130716836  130717336\n",
       "576  chr8  130726887  130728616\n",
       "\n",
       "[577 rows x 3 columns]"
      ]
     },
     "execution_count": 68,
     "metadata": {},
     "output_type": "execute_result"
    }
   ],
   "source": [
    "# Read raw gzipped bytes directly into dataframe.\n",
    "pd.read_csv(BytesIO(api.download(tsv_file.id)), compression='gzip', sep='\\t', header=None)"
   ]
  },
  {
   "cell_type": "markdown",
   "id": "4f44590e-fdea-47f7-a532-2e161fc6768c",
   "metadata": {},
   "source": [
    "# Collection endpoints"
   ]
  },
  {
   "cell_type": "markdown",
   "id": "7dded346-8fe0-4f7f-9c76-71f2119cbddb",
   "metadata": {},
   "source": [
    "The search endpoint will search across most item types by default, or can be filtered to only include select items. If you already know the collection type you are interested in, you can use its collection endpoint, which has explicitly defined field filters as input (refer to the collection endpoint documentation for specific fields). Note that the period in embedded fields such as `file.file_size` are specified with underscores (i.e. `files_file_size`) so that they are valid Python syntax."
   ]
  },
  {
   "cell_type": "code",
   "execution_count": 69,
   "id": "48c4f9b3-bffa-42cb-be81-1e91cb494b05",
   "metadata": {},
   "outputs": [
    {
     "data": {
      "text/plain": [
       "615"
      ]
     },
     "execution_count": 69,
     "metadata": {},
     "output_type": "execute_result"
    }
   ],
   "source": [
    "# Find total number of MeasurementSets\n",
    "api.measurement_sets().total"
   ]
  },
  {
   "cell_type": "code",
   "execution_count": 70,
   "id": "250c12d1-1f4d-4916-8054-f982e2c4dfc0",
   "metadata": {},
   "outputs": [],
   "source": [
    "# Refer to e.g. https://github.com/IGVF-DACC/igvf-python-client/blob/main/docs/IgvfApi.md#measurement_sets for filter fields."
   ]
  },
  {
   "cell_type": "code",
   "execution_count": 71,
   "id": "ae208b40-bf3e-4fa3-8c4f-f5760619e32b",
   "metadata": {},
   "outputs": [
    {
     "data": {
      "text/plain": [
       "615"
      ]
     },
     "execution_count": 71,
     "metadata": {},
     "output_type": "execute_result"
    }
   ],
   "source": [
    "api.measurement_sets(status=['released']).total"
   ]
  },
  {
   "cell_type": "code",
   "execution_count": 72,
   "id": "51f09919-51e1-49c4-8467-68fcd37f74a4",
   "metadata": {},
   "outputs": [
    {
     "data": {
      "text/plain": [
       "549"
      ]
     },
     "execution_count": 72,
     "metadata": {},
     "output_type": "execute_result"
    }
   ],
   "source": [
    "# Filter on award.@id\n",
    "api.measurement_sets(status=['released'], award_id=['/awards/HG011972/']).total"
   ]
  },
  {
   "cell_type": "code",
   "execution_count": 73,
   "id": "95cb126e-9e9a-4c1f-9829-4f18be2bfa03",
   "metadata": {},
   "outputs": [
    {
     "data": {
      "text/plain": [
       "1"
      ]
     },
     "execution_count": 73,
     "metadata": {},
     "output_type": "execute_result"
    }
   ],
   "source": [
    "# Filter on files.@id\n",
    "api.measurement_sets(files_id=['/sequence-files/IGVFFI9534FGRQ/']).total"
   ]
  },
  {
   "cell_type": "code",
   "execution_count": 74,
   "id": "2b03e0b1-1ea2-4238-8239-a32152caa1e0",
   "metadata": {},
   "outputs": [
    {
     "data": {
      "text/plain": [
       "['/sequence-files/IGVFFI9534FGRQ/',\n",
       " '/sequence-files/IGVFFI5460ASSY/',\n",
       " '/sequence-files/IGVFFI4839QVTC/',\n",
       " '/sequence-files/IGVFFI8111MPTE/',\n",
       " '/sequence-files/IGVFFI2837YQLJ/',\n",
       " '/sequence-files/IGVFFI6606YZTP/',\n",
       " '/sequence-files/IGVFFI5238KZBQ/',\n",
       " '/sequence-files/IGVFFI3272DDWD/',\n",
       " '/sequence-files/IGVFFI1090FYAA/',\n",
       " '/sequence-files/IGVFFI9275BZMG/',\n",
       " '/sequence-files/IGVFFI9043ACMD/',\n",
       " '/sequence-files/IGVFFI3461WBDK/',\n",
       " '/configuration-files/IGVFFI4106VMGU/',\n",
       " '/configuration-files/IGVFFI7942WNXM/',\n",
       " '/configuration-files/IGVFFI7894CKVE/',\n",
       " '/configuration-files/IGVFFI2982KSVM/']"
      ]
     },
     "execution_count": 74,
     "metadata": {},
     "output_type": "execute_result"
    }
   ],
   "source": [
    "api.measurement_sets(files_id=['/sequence-files/IGVFFI9534FGRQ/']).graph[0].files"
   ]
  },
  {
   "cell_type": "code",
   "execution_count": 75,
   "id": "166309c1-c3de-4adf-9da0-b7e321c46aa9",
   "metadata": {},
   "outputs": [
    {
     "data": {
      "text/plain": [
       "160"
      ]
     },
     "execution_count": 75,
     "metadata": {},
     "output_type": "execute_result"
    }
   ],
   "source": [
    "api.measurement_sets(samples_sample_terms_term_name=['HCT116']).total"
   ]
  },
  {
   "cell_type": "code",
   "execution_count": 76,
   "id": "8dd96393-7dd7-444b-a3b2-6b311e25fbba",
   "metadata": {},
   "outputs": [
    {
     "data": {
      "text/plain": [
       "164"
      ]
     },
     "execution_count": 76,
     "metadata": {},
     "output_type": "execute_result"
    }
   ],
   "source": [
    "# Search on samples.sample_terms.term_name\n",
    "api.measurement_sets(samples_sample_terms_term_name=['HCT116', 'K562']).total"
   ]
  },
  {
   "cell_type": "code",
   "execution_count": 77,
   "id": "da7237a1-304f-4101-833b-205e29d87bef",
   "metadata": {},
   "outputs": [
    {
     "data": {
      "text/plain": [
       "164"
      ]
     },
     "execution_count": 77,
     "metadata": {},
     "output_type": "execute_result"
    }
   ],
   "source": [
    "# Equivalent to search with dotted embedded field.\n",
    "api.search(type=['MeasurementSet'], field_filters={'samples.sample_terms.term_name': ['HCT116', 'K562']}).total"
   ]
  },
  {
   "cell_type": "code",
   "execution_count": 78,
   "id": "ce044580-938b-49d4-a08a-22c5f83c2279",
   "metadata": {},
   "outputs": [
    {
     "data": {
      "text/html": [
       "<div>\n",
       "<style scoped>\n",
       "    .dataframe tbody tr th:only-of-type {\n",
       "        vertical-align: middle;\n",
       "    }\n",
       "\n",
       "    .dataframe tbody tr th {\n",
       "        vertical-align: top;\n",
       "    }\n",
       "\n",
       "    .dataframe thead th {\n",
       "        text-align: right;\n",
       "    }\n",
       "</style>\n",
       "<table border=\"1\" class=\"dataframe\">\n",
       "  <thead>\n",
       "    <tr style=\"text-align: right;\">\n",
       "      <th></th>\n",
       "      <th>ID</th>\n",
       "      <th>Preferred Assay Title</th>\n",
       "      <th>assay_term.term_name</th>\n",
       "      <th>samples.taxa</th>\n",
       "      <th>Assay Targeted Genes</th>\n",
       "      <th>samples.treatments.summary</th>\n",
       "    </tr>\n",
       "  </thead>\n",
       "  <tbody>\n",
       "    <tr>\n",
       "      <th>0</th>\n",
       "      <td>/measurement-sets/IGVFDS6323AUPJ/</td>\n",
       "      <td>CRISPR FlowFISH</td>\n",
       "      <td>CRISPR perturbation screen followed by flow cy...</td>\n",
       "      <td>Homo sapiens</td>\n",
       "      <td>MYC</td>\n",
       "      <td>NaN</td>\n",
       "    </tr>\n",
       "    <tr>\n",
       "      <th>1</th>\n",
       "      <td>/measurement-sets/IGVFDS3328PNPV/</td>\n",
       "      <td>CRISPR FlowFISH</td>\n",
       "      <td>CRISPR perturbation screen followed by flow cy...</td>\n",
       "      <td>Homo sapiens</td>\n",
       "      <td>KITLG</td>\n",
       "      <td>Treatment of 1 μM 5-Phenyl-1H-indole-3-acetic ...</td>\n",
       "    </tr>\n",
       "    <tr>\n",
       "      <th>2</th>\n",
       "      <td>/measurement-sets/IGVFDS2241NBBY/</td>\n",
       "      <td>CRISPR FlowFISH</td>\n",
       "      <td>CRISPR perturbation screen followed by flow cy...</td>\n",
       "      <td>Homo sapiens</td>\n",
       "      <td>CCND1</td>\n",
       "      <td>NaN</td>\n",
       "    </tr>\n",
       "    <tr>\n",
       "      <th>3</th>\n",
       "      <td>/measurement-sets/IGVFDS9546RHPY/</td>\n",
       "      <td>CRISPR FlowFISH</td>\n",
       "      <td>CRISPR perturbation screen followed by flow cy...</td>\n",
       "      <td>Homo sapiens</td>\n",
       "      <td>ITPRID2</td>\n",
       "      <td>NaN</td>\n",
       "    </tr>\n",
       "    <tr>\n",
       "      <th>4</th>\n",
       "      <td>/measurement-sets/IGVFDS4476RLFR/</td>\n",
       "      <td>CRISPR FlowFISH</td>\n",
       "      <td>CRISPR perturbation screen followed by flow cy...</td>\n",
       "      <td>Homo sapiens</td>\n",
       "      <td>KITLG</td>\n",
       "      <td>NaN</td>\n",
       "    </tr>\n",
       "    <tr>\n",
       "      <th>...</th>\n",
       "      <td>...</td>\n",
       "      <td>...</td>\n",
       "      <td>...</td>\n",
       "      <td>...</td>\n",
       "      <td>...</td>\n",
       "      <td>...</td>\n",
       "    </tr>\n",
       "    <tr>\n",
       "      <th>159</th>\n",
       "      <td>/measurement-sets/IGVFDS4959UVNG/</td>\n",
       "      <td>CRISPR FlowFISH</td>\n",
       "      <td>CRISPR perturbation screen followed by flow cy...</td>\n",
       "      <td>Homo sapiens</td>\n",
       "      <td>KITLG</td>\n",
       "      <td>Treatment of 1 μM 5-Phenyl-1H-indole-3-acetic ...</td>\n",
       "    </tr>\n",
       "    <tr>\n",
       "      <th>160</th>\n",
       "      <td>/measurement-sets/IGVFDS4798YRBK/</td>\n",
       "      <td>CRISPR FlowFISH</td>\n",
       "      <td>CRISPR perturbation screen followed by flow cy...</td>\n",
       "      <td>Homo sapiens</td>\n",
       "      <td>ITPRID2</td>\n",
       "      <td>Treatment of 1 μM 5-Phenyl-1H-indole-3-acetic ...</td>\n",
       "    </tr>\n",
       "    <tr>\n",
       "      <th>161</th>\n",
       "      <td>/measurement-sets/IGVFDS2213NJWP/</td>\n",
       "      <td>CRISPR FlowFISH</td>\n",
       "      <td>CRISPR perturbation screen followed by flow cy...</td>\n",
       "      <td>Homo sapiens</td>\n",
       "      <td>KITLG</td>\n",
       "      <td>Treatment of 1 μM 5-Phenyl-1H-indole-3-acetic ...</td>\n",
       "    </tr>\n",
       "    <tr>\n",
       "      <th>162</th>\n",
       "      <td>/measurement-sets/IGVFDS6273UIFG/</td>\n",
       "      <td>CRISPR FlowFISH</td>\n",
       "      <td>CRISPR perturbation screen followed by flow cy...</td>\n",
       "      <td>Homo sapiens</td>\n",
       "      <td>FAM3C</td>\n",
       "      <td>NaN</td>\n",
       "    </tr>\n",
       "    <tr>\n",
       "      <th>163</th>\n",
       "      <td>/measurement-sets/IGVFDS7147ANAC/</td>\n",
       "      <td>CRISPR FlowFISH</td>\n",
       "      <td>CRISPR perturbation screen followed by flow cy...</td>\n",
       "      <td>Homo sapiens</td>\n",
       "      <td>KITLG</td>\n",
       "      <td>NaN</td>\n",
       "    </tr>\n",
       "  </tbody>\n",
       "</table>\n",
       "<p>164 rows × 6 columns</p>\n",
       "</div>"
      ],
      "text/plain": [
       "                                    ID Preferred Assay Title  \\\n",
       "0    /measurement-sets/IGVFDS6323AUPJ/       CRISPR FlowFISH   \n",
       "1    /measurement-sets/IGVFDS3328PNPV/       CRISPR FlowFISH   \n",
       "2    /measurement-sets/IGVFDS2241NBBY/       CRISPR FlowFISH   \n",
       "3    /measurement-sets/IGVFDS9546RHPY/       CRISPR FlowFISH   \n",
       "4    /measurement-sets/IGVFDS4476RLFR/       CRISPR FlowFISH   \n",
       "..                                 ...                   ...   \n",
       "159  /measurement-sets/IGVFDS4959UVNG/       CRISPR FlowFISH   \n",
       "160  /measurement-sets/IGVFDS4798YRBK/       CRISPR FlowFISH   \n",
       "161  /measurement-sets/IGVFDS2213NJWP/       CRISPR FlowFISH   \n",
       "162  /measurement-sets/IGVFDS6273UIFG/       CRISPR FlowFISH   \n",
       "163  /measurement-sets/IGVFDS7147ANAC/       CRISPR FlowFISH   \n",
       "\n",
       "                                  assay_term.term_name  samples.taxa  \\\n",
       "0    CRISPR perturbation screen followed by flow cy...  Homo sapiens   \n",
       "1    CRISPR perturbation screen followed by flow cy...  Homo sapiens   \n",
       "2    CRISPR perturbation screen followed by flow cy...  Homo sapiens   \n",
       "3    CRISPR perturbation screen followed by flow cy...  Homo sapiens   \n",
       "4    CRISPR perturbation screen followed by flow cy...  Homo sapiens   \n",
       "..                                                 ...           ...   \n",
       "159  CRISPR perturbation screen followed by flow cy...  Homo sapiens   \n",
       "160  CRISPR perturbation screen followed by flow cy...  Homo sapiens   \n",
       "161  CRISPR perturbation screen followed by flow cy...  Homo sapiens   \n",
       "162  CRISPR perturbation screen followed by flow cy...  Homo sapiens   \n",
       "163  CRISPR perturbation screen followed by flow cy...  Homo sapiens   \n",
       "\n",
       "    Assay Targeted Genes                         samples.treatments.summary  \n",
       "0                    MYC                                                NaN  \n",
       "1                  KITLG  Treatment of 1 μM 5-Phenyl-1H-indole-3-acetic ...  \n",
       "2                  CCND1                                                NaN  \n",
       "3                ITPRID2                                                NaN  \n",
       "4                  KITLG                                                NaN  \n",
       "..                   ...                                                ...  \n",
       "159                KITLG  Treatment of 1 μM 5-Phenyl-1H-indole-3-acetic ...  \n",
       "160              ITPRID2  Treatment of 1 μM 5-Phenyl-1H-indole-3-acetic ...  \n",
       "161                KITLG  Treatment of 1 μM 5-Phenyl-1H-indole-3-acetic ...  \n",
       "162                FAM3C                                                NaN  \n",
       "163                KITLG                                                NaN  \n",
       "\n",
       "[164 rows x 6 columns]"
      ]
     },
     "execution_count": 78,
     "metadata": {},
     "output_type": "execute_result"
    }
   ],
   "source": [
    "# Use dotted fields with search/report endpoints when specifying field filters and fields to include in response.\n",
    "df = pd.read_csv(\n",
    "    StringIO(\n",
    "        api.report(\n",
    "            type=['MeasurementSet'],\n",
    "            field_filters={'samples.sample_terms.term_name': ['HCT116', 'K562']},\n",
    "            include_fields=['@id', 'preferred_assay_title', 'assay_term.term_name', 'samples.taxa', 'targeted_genes.symbol', 'samples.treatments.summary']\n",
    "        )\n",
    "    ),\n",
    "    sep='\\t', \n",
    "    skiprows=1\n",
    ")\n",
    "df"
   ]
  },
  {
   "cell_type": "code",
   "execution_count": 79,
   "id": "eb79061a-9d1d-4e18-8f5f-9d3d44407122",
   "metadata": {},
   "outputs": [
    {
     "data": {
      "text/plain": [
       "(164, 6)"
      ]
     },
     "execution_count": 79,
     "metadata": {},
     "output_type": "execute_result"
    }
   ],
   "source": [
    "df.shape"
   ]
  },
  {
   "cell_type": "code",
   "execution_count": 80,
   "id": "f67cf86e-0640-423d-a488-d0daa918740c",
   "metadata": {},
   "outputs": [
    {
     "data": {
      "text/plain": [
       "assay_term.term_name\n",
       "CRISPR perturbation screen followed by flow cytometry and FISH    120\n",
       "CRISPR screen                                                      44\n",
       "Name: count, dtype: int64"
      ]
     },
     "execution_count": 80,
     "metadata": {},
     "output_type": "execute_result"
    }
   ],
   "source": [
    "df['assay_term.term_name'].value_counts()"
   ]
  },
  {
   "cell_type": "code",
   "execution_count": 81,
   "id": "b0c65d8c-0bc7-410e-a49b-5115bd92d6b6",
   "metadata": {},
   "outputs": [
    {
     "data": {
      "text/plain": [
       "Assay Targeted Genes\n",
       "KITLG      48\n",
       "CCND1      36\n",
       "MYC        24\n",
       "ITPRID2    24\n",
       "FAM3C      24\n",
       "Name: count, dtype: int64"
      ]
     },
     "execution_count": 81,
     "metadata": {},
     "output_type": "execute_result"
    }
   ],
   "source": [
    "# Default columns are mapped to titles that are different than the underlying field name.\n",
    "df['Assay Targeted Genes'].value_counts()"
   ]
  },
  {
   "cell_type": "markdown",
   "id": "e15944fd-436a-41e2-a08b-c787cba3747a",
   "metadata": {},
   "source": [
    "# Limit number of results"
   ]
  },
  {
   "cell_type": "markdown",
   "id": "795c4056-3777-4b71-8ccf-67ff3dc5c12c",
   "metadata": {},
   "source": [
    "By default most endpoints return at most 25 results. Use the `limit` keyword to specify exact number of results, or `all` to return all results. Be careful if you are returning thousands of results. Usually the report endpoint with select fields is the most efficient for data transfer/serialization, and always returns all results (make sure to narrow search query down first as much as possible before fetching report)."
   ]
  },
  {
   "cell_type": "code",
   "execution_count": 82,
   "id": "32c4c49a-ccfa-45a2-88a3-0d35c15f5fc4",
   "metadata": {},
   "outputs": [],
   "source": [
    "results = api.tabular_files()"
   ]
  },
  {
   "cell_type": "code",
   "execution_count": 83,
   "id": "b602d42a-e3d0-4213-9d5e-3eed1505ef5f",
   "metadata": {},
   "outputs": [
    {
     "data": {
      "text/plain": [
       "45"
      ]
     },
     "execution_count": 83,
     "metadata": {},
     "output_type": "execute_result"
    }
   ],
   "source": [
    "# Total number of results matching collection.\n",
    "results.total"
   ]
  },
  {
   "cell_type": "code",
   "execution_count": 84,
   "id": "fa8562ed-b1b4-4072-b2a9-81cb486af7be",
   "metadata": {},
   "outputs": [
    {
     "data": {
      "text/plain": [
       "25"
      ]
     },
     "execution_count": 84,
     "metadata": {},
     "output_type": "execute_result"
    }
   ],
   "source": [
    "# Total number of results actuall returned.\n",
    "len(results.graph)"
   ]
  },
  {
   "cell_type": "code",
   "execution_count": 85,
   "id": "bde1b9ab-eb3a-4126-8659-c2c58e369054",
   "metadata": {},
   "outputs": [
    {
     "data": {
      "text/plain": [
       "1"
      ]
     },
     "execution_count": 85,
     "metadata": {},
     "output_type": "execute_result"
    }
   ],
   "source": [
    "results = api.tabular_files(limit=1)\n",
    "len(results.graph)"
   ]
  },
  {
   "cell_type": "code",
   "execution_count": 86,
   "id": "1054a3bb-2d57-437c-8c4c-66474801034c",
   "metadata": {},
   "outputs": [
    {
     "data": {
      "text/plain": [
       "45"
      ]
     },
     "execution_count": 86,
     "metadata": {},
     "output_type": "execute_result"
    }
   ],
   "source": [
    "results = api.tabular_files(limit=100)\n",
    "len(results.graph)"
   ]
  },
  {
   "cell_type": "code",
   "execution_count": 87,
   "id": "416e415f-0757-407c-8866-890e9025a10c",
   "metadata": {},
   "outputs": [
    {
     "data": {
      "text/plain": [
       "45"
      ]
     },
     "execution_count": 87,
     "metadata": {},
     "output_type": "execute_result"
    }
   ],
   "source": [
    "results = api.tabular_files(limit='all')\n",
    "len(results.graph)"
   ]
  }
 ],
 "metadata": {
  "kernelspec": {
   "display_name": "Python 3 (ipykernel)",
   "language": "python",
   "name": "python3"
  },
  "language_info": {
   "codemirror_mode": {
    "name": "ipython",
    "version": 3
   },
   "file_extension": ".py",
   "mimetype": "text/x-python",
   "name": "python",
   "nbconvert_exporter": "python",
   "pygments_lexer": "ipython3",
   "version": "3.11.9"
  }
 },
 "nbformat": 4,
 "nbformat_minor": 5
}
