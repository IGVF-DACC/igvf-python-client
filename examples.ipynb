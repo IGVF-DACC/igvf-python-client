{
 "cells": [
  {
   "cell_type": "code",
   "execution_count": 1,
   "id": "5383bd79-2b5e-411f-9067-22af3f53cab2",
   "metadata": {},
   "outputs": [],
   "source": [
    "from igvf_client import IgvfApi"
   ]
  },
  {
   "cell_type": "code",
   "execution_count": 2,
   "id": "3f090ce3-9537-41a0-b201-f6d00c8fdf30",
   "metadata": {},
   "outputs": [],
   "source": [
    "# Instantiate new instance of IGVF API.\n",
    "api = IgvfApi()"
   ]
  },
  {
   "cell_type": "code",
   "execution_count": 3,
   "id": "669d472a-8f85-44a2-98c3-bd4eab0431f9",
   "metadata": {},
   "outputs": [
    {
     "name": "stdout",
     "output_type": "stream",
     "text": [
      "['AccessKey', 'AnalysisStep', 'AnalysisStepVersion', 'Award', 'Biomarker', 'Document', 'HumanDonor', 'RodentDonor', 'AlignmentFile', 'ConfigurationFile', 'GenomeBrowserAnnotationFile', 'ImageFile', 'MatrixFile', 'ModelFile', 'ReferenceFile', 'SequenceFile', 'SignalFile', 'TabularFile', 'AnalysisSet', 'AuxiliarySet', 'ConstructLibrarySet', 'CuratedSet', 'MeasurementSet', 'ModelSet', 'PredictionSet', 'Gene', 'Image', 'InstitutionalCertificate', 'Lab', 'CrisprModification', 'DegronModification', 'AssayTerm', 'PhenotypeTerm', 'PlatformTerm', 'SampleTerm', 'OpenReadingFrame', 'Page', 'PhenotypicFeature', 'Publication', 'InVitroSystem', 'MultiplexedSample', 'PrimaryCell', 'TechnicalSample', 'Tissue', 'WholeOrganism', 'Software', 'SoftwareVersion', 'Source', 'Treatment', 'User', 'Workflow']\n"
     ]
    }
   ],
   "source": [
    "# Pull name of all item types.\n",
    "item_types = [x for x in api.schemas().keys() if '_' not in x and '@' not in x]\n",
    "print(item_types)"
   ]
  },
  {
   "cell_type": "code",
   "execution_count": 4,
   "id": "154853f8-5929-4494-b38c-1a559dd1b149",
   "metadata": {},
   "outputs": [
    {
     "name": "stdout",
     "output_type": "stream",
     "text": [
      "AccessKey 0\n",
      "AnalysisStep 0\n",
      "AnalysisStepVersion 0\n",
      "Award 27\n",
      "Biomarker 0\n",
      "Document 12\n",
      "HumanDonor 16\n",
      "RodentDonor 11\n",
      "AlignmentFile 0\n",
      "ConfigurationFile 767\n",
      "GenomeBrowserAnnotationFile 0\n",
      "ImageFile 0\n",
      "MatrixFile 2\n",
      "ModelFile 0\n",
      "ReferenceFile 709\n",
      "SequenceFile 9369\n",
      "SignalFile 7\n",
      "TabularFile 45\n",
      "AnalysisSet 13\n",
      "AuxiliarySet 292\n",
      "ConstructLibrarySet 10\n",
      "CuratedSet 60\n",
      "MeasurementSet 615\n",
      "ModelSet 0\n",
      "PredictionSet 0\n",
      "Gene 0\n",
      "Image 44\n",
      "InstitutionalCertificate 0\n",
      "Lab 102\n",
      "CrisprModification 6\n",
      "DegronModification 0\n",
      "AssayTerm 22\n",
      "PhenotypeTerm 275\n",
      "PlatformTerm 24\n",
      "SampleTerm 81\n",
      "OpenReadingFrame 0\n",
      "Page 15\n",
      "PhenotypicFeature 1\n",
      "Publication 73\n",
      "InVitroSystem 753\n",
      "MultiplexedSample 8\n",
      "PrimaryCell 0\n",
      "TechnicalSample 0\n",
      "Tissue 8\n",
      "WholeOrganism 0\n",
      "Software 49\n",
      "SoftwareVersion 1\n",
      "Source 109\n",
      "Treatment 4\n",
      "User 228\n",
      "Workflow 0\n"
     ]
    }
   ],
   "source": [
    "# Find total number of items for each item type using search endpoint.\n",
    "for item_type in item_types:\n",
    "    print(item_type, api.search(type=[item_type], limit=0).total)"
   ]
  },
  {
   "cell_type": "code",
   "execution_count": 7,
   "id": "5110f2cf-f9f1-498a-bf55-a558abfb10c2",
   "metadata": {},
   "outputs": [],
   "source": [
    "# Search for query ABC and inspect result fields.\n",
    "results = api.search(query='ABC')"
   ]
  },
  {
   "cell_type": "code",
   "execution_count": 8,
   "id": "3f47e82f-3f4c-47d3-add6-b2aa57779123",
   "metadata": {},
   "outputs": [
    {
     "data": {
      "text/plain": [
       "4"
      ]
     },
     "execution_count": 8,
     "metadata": {},
     "output_type": "execute_result"
    }
   ],
   "source": [
    "results.total"
   ]
  },
  {
   "cell_type": "code",
   "execution_count": 9,
   "id": "0a3999bb-036d-4194-bbb1-cfefad5bfa1e",
   "metadata": {},
   "outputs": [
    {
     "data": {
      "text/plain": [
       "[SearchFacet(var_field='type', title='Data Type', terms=[{'key': 'Software', 'doc_count': 2}, {'key': 'Source', 'doc_count': 2}])]"
      ]
     },
     "execution_count": 9,
     "metadata": {},
     "output_type": "execute_result"
    }
   ],
   "source": [
    "results.facets"
   ]
  },
  {
   "cell_type": "code",
   "execution_count": 10,
   "id": "da82d0b2-5390-443c-b0bf-ace673abbc7b",
   "metadata": {},
   "outputs": [
    {
     "data": {
      "text/plain": [
       "'/search?query=ABC&frame=object'"
      ]
     },
     "execution_count": 10,
     "metadata": {},
     "output_type": "execute_result"
    }
   ],
   "source": [
    "results.id"
   ]
  },
  {
   "cell_type": "code",
   "execution_count": 11,
   "id": "c48e5baf-0662-4062-b5a1-26a12c8391db",
   "metadata": {},
   "outputs": [
    {
     "data": {
      "text/plain": [
       "[SearchResultItem(actual_instance=Software(release_timestamp='2023-03-14T00:12:36.014029+00:00', publications=None, lab='/labs/jesse-engreitz/', award='/awards/HG011972/', status='released', schema_version='6', uuid='f37503db-d59c-455d-99f0-7065c9afadfb', notes=None, aliases=None, creation_timestamp='2023-03-13T23:29:35.927480+00:00', submitted_by='/users/05f44ea6-5f00-440c-99e3-6b54f5792028/', submitter_comment=None, description='Target gene prediction (element)', name='abc', title='ABC', source_url='https://github.com/broadinstitute/ABC-Enhancer-Gene-Prediction', used_by=None, id='/software/abc/', type=['Software', 'Item'], summary='ABC', versions=[])),\n",
       " SearchResultItem(actual_instance=Source(release_timestamp='2023-03-24T21:03:35.057521+00:00', status='released', url='http://www.abcam.com', schema_version='4', uuid='b10f3c4b-d525-4e86-b1f6-a169e1ec5774', notes=None, aliases=None, creation_timestamp='2023-03-24T21:03:35.060832+00:00', submitted_by='/users/5e3038c4-baa5-4589-b3d8-ad2fe634e826/', submitter_comment=None, description='Abcam', title='Abcam', name='abcam', id='/sources/abcam/', type=['Source', 'Item'], summary='Abcam')),\n",
       " SearchResultItem(actual_instance=Source(release_timestamp='2023-03-24T21:03:35.493152+00:00', status='released', url='http://www.abclonal.com/', schema_version='4', uuid='3ff58555-6c26-483c-930d-ddda6bf9badd', notes=None, aliases=None, creation_timestamp='2023-03-24T21:03:35.497182+00:00', submitted_by='/users/5e3038c4-baa5-4589-b3d8-ad2fe634e826/', submitter_comment=None, description='ABclonal Technology', title='ABclonal', name='abclonal', id='/sources/abclonal/', type=['Source', 'Item'], summary='ABclonal')),\n",
       " SearchResultItem(actual_instance=Software(release_timestamp='2023-03-14T00:14:14.620564+00:00', publications=None, lab='/labs/jesse-engreitz/', award='/awards/HG011972/', status='released', schema_version='6', uuid='48a9ccf4-9f3f-4c96-98c8-b390713163ae', notes=None, aliases=None, creation_timestamp='2023-03-13T23:29:36.381788+00:00', submitted_by='/users/05f44ea6-5f00-440c-99e3-6b54f5792028/', submitter_comment=None, description='Noncoding variant effects/prioritization', name='abc-max', title='ABC-Max', source_url='https://github.com/EngreitzLab/ABC-GWAS-Paper/tree/main/ABC-Max', used_by=None, id='/software/abc-max/', type=['Software', 'Item'], summary='ABC-Max', versions=[]))]"
      ]
     },
     "execution_count": 11,
     "metadata": {},
     "output_type": "execute_result"
    }
   ],
   "source": [
    "results.graph"
   ]
  },
  {
   "cell_type": "code",
   "execution_count": 12,
   "id": "c4fa97ed-a2d8-4b8d-a4f3-e6fd78b84564",
   "metadata": {},
   "outputs": [],
   "source": [
    "item = results.graph[0]"
   ]
  },
  {
   "cell_type": "code",
   "execution_count": 13,
   "id": "1f1716f7-7c00-48cb-a4d5-d6ce79680b77",
   "metadata": {},
   "outputs": [
    {
     "data": {
      "text/plain": [
       "SearchResultItem(actual_instance=Software(release_timestamp='2023-03-14T00:12:36.014029+00:00', publications=None, lab='/labs/jesse-engreitz/', award='/awards/HG011972/', status='released', schema_version='6', uuid='f37503db-d59c-455d-99f0-7065c9afadfb', notes=None, aliases=None, creation_timestamp='2023-03-13T23:29:35.927480+00:00', submitted_by='/users/05f44ea6-5f00-440c-99e3-6b54f5792028/', submitter_comment=None, description='Target gene prediction (element)', name='abc', title='ABC', source_url='https://github.com/broadinstitute/ABC-Enhancer-Gene-Prediction', used_by=None, id='/software/abc/', type=['Software', 'Item'], summary='ABC', versions=[]))"
      ]
     },
     "execution_count": 13,
     "metadata": {},
     "output_type": "execute_result"
    }
   ],
   "source": [
    "item"
   ]
  },
  {
   "cell_type": "code",
   "execution_count": 14,
   "id": "23358c9f-c124-4f9b-b925-d65352c56693",
   "metadata": {},
   "outputs": [],
   "source": [
    "# Unwrap the underlying Software item from search results.\n",
    "software_item = item.actual_instance"
   ]
  },
  {
   "cell_type": "code",
   "execution_count": 15,
   "id": "496b277b-c2d3-4315-9e0e-75d607ce35a1",
   "metadata": {},
   "outputs": [
    {
     "data": {
      "text/plain": [
       "Software(release_timestamp='2023-03-14T00:12:36.014029+00:00', publications=None, lab='/labs/jesse-engreitz/', award='/awards/HG011972/', status='released', schema_version='6', uuid='f37503db-d59c-455d-99f0-7065c9afadfb', notes=None, aliases=None, creation_timestamp='2023-03-13T23:29:35.927480+00:00', submitted_by='/users/05f44ea6-5f00-440c-99e3-6b54f5792028/', submitter_comment=None, description='Target gene prediction (element)', name='abc', title='ABC', source_url='https://github.com/broadinstitute/ABC-Enhancer-Gene-Prediction', used_by=None, id='/software/abc/', type=['Software', 'Item'], summary='ABC', versions=[])"
      ]
     },
     "execution_count": 15,
     "metadata": {},
     "output_type": "execute_result"
    }
   ],
   "source": [
    "software_item"
   ]
  },
  {
   "cell_type": "code",
   "execution_count": 16,
   "id": "ba03873f-73c0-4df8-8ed4-201ea20fdf79",
   "metadata": {},
   "outputs": [
    {
     "data": {
      "text/plain": [
       "'/software/abc/'"
      ]
     },
     "execution_count": 16,
     "metadata": {},
     "output_type": "execute_result"
    }
   ],
   "source": [
    "# Explore fields.\n",
    "software_item.id"
   ]
  },
  {
   "cell_type": "code",
   "execution_count": 17,
   "id": "4b1aa69c-d09b-4c3e-a78a-dcae2242c729",
   "metadata": {},
   "outputs": [
    {
     "data": {
      "text/plain": [
       "'f37503db-d59c-455d-99f0-7065c9afadfb'"
      ]
     },
     "execution_count": 17,
     "metadata": {},
     "output_type": "execute_result"
    }
   ],
   "source": [
    "software_item.uuid"
   ]
  },
  {
   "cell_type": "code",
   "execution_count": 18,
   "id": "96d34ff3-89d1-47e7-8087-1f0d045ef747",
   "metadata": {},
   "outputs": [
    {
     "data": {
      "text/plain": [
       "'/labs/jesse-engreitz/'"
      ]
     },
     "execution_count": 18,
     "metadata": {},
     "output_type": "execute_result"
    }
   ],
   "source": [
    "software_item.lab"
   ]
  },
  {
   "cell_type": "code",
   "execution_count": 20,
   "id": "cc253fe1-6b69-4b72-a888-648b7e724e56",
   "metadata": {},
   "outputs": [],
   "source": [
    "# Get all the users that belong to the lab.\n",
    "users_from_lab = api.users(lab=[software_item.lab])"
   ]
  },
  {
   "cell_type": "code",
   "execution_count": 21,
   "id": "2b0799aa-f997-4a1e-a9bd-1c66493cfb47",
   "metadata": {},
   "outputs": [
    {
     "data": {
      "text/plain": [
       "9"
      ]
     },
     "execution_count": 21,
     "metadata": {},
     "output_type": "execute_result"
    }
   ],
   "source": [
    "users_from_lab.total"
   ]
  },
  {
   "cell_type": "code",
   "execution_count": 22,
   "id": "db6727f7-07a8-4770-a25a-1ae382feff9a",
   "metadata": {},
   "outputs": [
    {
     "data": {
      "text/plain": [
       "'/labs/jesse-engreitz/'"
      ]
     },
     "execution_count": 22,
     "metadata": {},
     "output_type": "execute_result"
    }
   ],
   "source": [
    "users_from_lab.graph[0].lab"
   ]
  },
  {
   "cell_type": "code",
   "execution_count": null,
   "id": "d7390cf1-64c8-406c-9cd4-be50c727d012",
   "metadata": {},
   "outputs": [],
   "source": []
  }
 ],
 "metadata": {
  "kernelspec": {
   "display_name": "Python 3 (ipykernel)",
   "language": "python",
   "name": "python3"
  },
  "language_info": {
   "codemirror_mode": {
    "name": "ipython",
    "version": 3
   },
   "file_extension": ".py",
   "mimetype": "text/x-python",
   "name": "python",
   "nbconvert_exporter": "python",
   "pygments_lexer": "ipython3",
   "version": "3.11.9"
  }
 },
 "nbformat": 4,
 "nbformat_minor": 5
}
